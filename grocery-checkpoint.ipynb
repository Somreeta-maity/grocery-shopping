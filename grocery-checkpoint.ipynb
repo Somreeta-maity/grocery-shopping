{
 "cells": [
  {
   "cell_type": "code",
   "execution_count": 1,
   "id": "730b0457",
   "metadata": {},
   "outputs": [],
   "source": [
    "import pandas as pd\n",
    "import numpy as np \n",
    "import seaborn as sns\n",
    "import matplotlib.pyplot as plt\n",
    "from mlxtend.frequent_patterns import apriori\n",
    "from mlxtend.frequent_patterns import association_rules\n",
    "import mlxtend as ml"
   ]
  },
  {
   "cell_type": "code",
   "execution_count": 2,
   "id": "40bfe5ae",
   "metadata": {},
   "outputs": [],
   "source": [
    "basket = pd.read_csv('C:/Users/maity/OneDrive/Desktop/Pworld/classification/grocery.csv')"
   ]
  },
  {
   "cell_type": "code",
   "execution_count": 3,
   "id": "a214e4c3",
   "metadata": {},
   "outputs": [
    {
     "data": {
      "text/html": [
       "<div>\n",
       "<style scoped>\n",
       "    .dataframe tbody tr th:only-of-type {\n",
       "        vertical-align: middle;\n",
       "    }\n",
       "\n",
       "    .dataframe tbody tr th {\n",
       "        vertical-align: top;\n",
       "    }\n",
       "\n",
       "    .dataframe thead th {\n",
       "        text-align: right;\n",
       "    }\n",
       "</style>\n",
       "<table border=\"1\" class=\"dataframe\">\n",
       "  <thead>\n",
       "    <tr style=\"text-align: right;\">\n",
       "      <th></th>\n",
       "      <th>Date</th>\n",
       "      <th>Time</th>\n",
       "      <th>Transaction</th>\n",
       "      <th>Item</th>\n",
       "    </tr>\n",
       "  </thead>\n",
       "  <tbody>\n",
       "    <tr>\n",
       "      <th>0</th>\n",
       "      <td>30-10-2016</td>\n",
       "      <td>09:58:11</td>\n",
       "      <td>1</td>\n",
       "      <td>Bread</td>\n",
       "    </tr>\n",
       "    <tr>\n",
       "      <th>1</th>\n",
       "      <td>30-10-2016</td>\n",
       "      <td>10:05:34</td>\n",
       "      <td>2</td>\n",
       "      <td>Scandinavian</td>\n",
       "    </tr>\n",
       "    <tr>\n",
       "      <th>2</th>\n",
       "      <td>30-10-2016</td>\n",
       "      <td>10:05:34</td>\n",
       "      <td>2</td>\n",
       "      <td>Scandinavian</td>\n",
       "    </tr>\n",
       "    <tr>\n",
       "      <th>3</th>\n",
       "      <td>30-10-2016</td>\n",
       "      <td>10:07:57</td>\n",
       "      <td>3</td>\n",
       "      <td>Hot chocolate</td>\n",
       "    </tr>\n",
       "    <tr>\n",
       "      <th>4</th>\n",
       "      <td>30-10-2016</td>\n",
       "      <td>10:07:57</td>\n",
       "      <td>3</td>\n",
       "      <td>Jam</td>\n",
       "    </tr>\n",
       "  </tbody>\n",
       "</table>\n",
       "</div>"
      ],
      "text/plain": [
       "         Date      Time  Transaction           Item\n",
       "0  30-10-2016  09:58:11            1          Bread\n",
       "1  30-10-2016  10:05:34            2   Scandinavian\n",
       "2  30-10-2016  10:05:34            2   Scandinavian\n",
       "3  30-10-2016  10:07:57            3  Hot chocolate\n",
       "4  30-10-2016  10:07:57            3            Jam"
      ]
     },
     "execution_count": 3,
     "metadata": {},
     "output_type": "execute_result"
    }
   ],
   "source": [
    "basket.head()"
   ]
  },
  {
   "cell_type": "code",
   "execution_count": 4,
   "id": "ad956685",
   "metadata": {},
   "outputs": [
    {
     "data": {
      "text/plain": [
       "(21293, 4)"
      ]
     },
     "execution_count": 4,
     "metadata": {},
     "output_type": "execute_result"
    }
   ],
   "source": [
    "basket.shape"
   ]
  },
  {
   "cell_type": "code",
   "execution_count": 5,
   "id": "941611c0",
   "metadata": {},
   "outputs": [
    {
     "data": {
      "text/plain": [
       "Date           False\n",
       "Time           False\n",
       "Transaction    False\n",
       "Item           False\n",
       "dtype: bool"
      ]
     },
     "execution_count": 5,
     "metadata": {},
     "output_type": "execute_result"
    }
   ],
   "source": [
    "basket.isnull().any()"
   ]
  },
  {
   "cell_type": "code",
   "execution_count": 6,
   "id": "f2b6f248",
   "metadata": {},
   "outputs": [
    {
     "data": {
      "text/plain": [
       "Date           object\n",
       "Time           object\n",
       "Transaction     int64\n",
       "Item           object\n",
       "dtype: object"
      ]
     },
     "execution_count": 6,
     "metadata": {},
     "output_type": "execute_result"
    }
   ],
   "source": [
    "basket.dtypes"
   ]
  },
  {
   "cell_type": "code",
   "execution_count": 7,
   "id": "3327054e",
   "metadata": {},
   "outputs": [
    {
     "data": {
      "text/plain": [
       "array(['Bread', 'Scandinavian', 'Hot chocolate', 'Jam', 'Cookies',\n",
       "       'Muffin', 'Coffee', 'Pastry', 'Medialuna', 'Tea', 'NONE',\n",
       "       'Tartine', 'Basket', 'Mineral water', 'Farm House', 'Fudge',\n",
       "       'Juice', \"Ella's Kitchen Pouches\", 'Victorian Sponge', 'Frittata',\n",
       "       'Hearty & Seasonal', 'Soup', 'Pick and Mix Bowls', 'Smoothies',\n",
       "       'Cake', 'Mighty Protein', 'Chicken sand', 'Coke',\n",
       "       'My-5 Fruit Shoot', 'Focaccia', 'Sandwich', 'Alfajores', 'Eggs',\n",
       "       'Brownie', 'Dulce de Leche', 'Honey', 'The BART', 'Granola',\n",
       "       'Fairy Doors', 'Empanadas', 'Keeping It Local', 'Art Tray',\n",
       "       'Bowl Nic Pitt', 'Bread Pudding', 'Adjustment', 'Truffles',\n",
       "       'Chimichurri Oil', 'Bacon', 'Spread', 'Kids biscuit', 'Siblings',\n",
       "       'Caramel bites', 'Jammie Dodgers', 'Tiffin', 'Olum & polenta',\n",
       "       'Polenta', 'The Nomad', 'Hack the stack', 'Bakewell',\n",
       "       'Lemon and coconut', 'Toast', 'Scone', 'Crepes', 'Vegan mincepie',\n",
       "       'Bare Popcorn', 'Muesli', 'Crisps', 'Pintxos', 'Gingerbread syrup',\n",
       "       'Panatone', 'Brioche and salami', 'Afternoon with the baker',\n",
       "       'Salad', 'Chicken Stew', 'Spanish Brunch',\n",
       "       'Raspberry shortbread sandwich', 'Extra Salami or Feta',\n",
       "       'Duck egg', 'Baguette', \"Valentine's card\", 'Tshirt',\n",
       "       'Vegan Feast', 'Postcard', 'Nomad bag', 'Chocolates',\n",
       "       'Coffee granules ', 'Drinking chocolate spoons ',\n",
       "       'Christmas common', 'Argentina Night', 'Half slice Monster ',\n",
       "       'Gift voucher', 'Cherry me Dried fruit', 'Mortimer', 'Raw bars',\n",
       "       'Tacos/Fajita'], dtype=object)"
      ]
     },
     "execution_count": 7,
     "metadata": {},
     "output_type": "execute_result"
    }
   ],
   "source": [
    "basket['Item'].unique()"
   ]
  },
  {
   "cell_type": "code",
   "execution_count": 8,
   "id": "c009b69b",
   "metadata": {},
   "outputs": [
    {
     "data": {
      "text/plain": [
       "04-02-2017    302\n",
       "05-11-2016    283\n",
       "04-03-2017    265\n",
       "25-03-2017    254\n",
       "28-01-2017    243\n",
       "18-02-2017    240\n",
       "12-11-2016    227\n",
       "19-11-2016    216\n",
       "11-03-2017    210\n",
       "08-04-2017    209\n",
       "Name: Date, dtype: int64"
      ]
     },
     "execution_count": 8,
     "metadata": {},
     "output_type": "execute_result"
    }
   ],
   "source": [
    "basket['Date'].value_counts().iloc[:10]"
   ]
  },
  {
   "cell_type": "code",
   "execution_count": 14,
   "id": "d8729222",
   "metadata": {},
   "outputs": [
    {
     "data": {
      "text/plain": [
       "(array([0, 1, 2, 3, 4, 5, 6, 7, 8, 9]),\n",
       " [Text(0, 0, '04-02-2017'),\n",
       "  Text(1, 0, '05-11-2016'),\n",
       "  Text(2, 0, '04-03-2017'),\n",
       "  Text(3, 0, '25-03-2017'),\n",
       "  Text(4, 0, '28-01-2017'),\n",
       "  Text(5, 0, '18-02-2017'),\n",
       "  Text(6, 0, '12-11-2016'),\n",
       "  Text(7, 0, '19-11-2016'),\n",
       "  Text(8, 0, '11-03-2017'),\n",
       "  Text(9, 0, '08-04-2017')])"
      ]
     },
     "execution_count": 14,
     "metadata": {},
     "output_type": "execute_result"
    },
    {
     "data": {
      "image/png": "[encoded data removed]",
      "text/plain": [
       "<Figure size 432x288 with 1 Axes>"
      ]
     },
     "metadata": {
      "needs_background": "light"
     },
     "output_type": "display_data"
    }
   ],
   "source": [
    "sns.countplot(x='Date', data = basket, order= basket['Date'].value_counts().iloc[:10].index)\n",
    "plt.xticks(rotation = 45)"
   ]
  },
  {
   "cell_type": "code",
   "execution_count": 15,
   "id": "3b8f4517",
   "metadata": {},
   "outputs": [
    {
     "data": {
      "text/plain": [
       "12:07:39    16\n",
       "10:45:21    13\n",
       "10:55:19    13\n",
       "14:38:01    13\n",
       "15:09:18    12\n",
       "            ..\n",
       "12:57:20     1\n",
       "12:59:38     1\n",
       "13:12:30     1\n",
       "15:04:27     1\n",
       "15:04:24     1\n",
       "Name: Time, Length: 8240, dtype: int64"
      ]
     },
     "execution_count": 15,
     "metadata": {},
     "output_type": "execute_result"
    }
   ],
   "source": [
    "basket['Time'].value_counts()"
   ]
  },
  {
   "cell_type": "code",
   "execution_count": 16,
   "id": "09663214",
   "metadata": {},
   "outputs": [
    {
     "data": {
      "text/plain": [
       "(array([ 0,  1,  2,  3,  4,  5,  6,  7,  8,  9, 10, 11, 12, 13, 14, 15, 16,\n",
       "        17, 18, 19, 20, 21, 22, 23, 24]),\n",
       " [Text(0, 0, '12:07:39'),\n",
       "  Text(1, 0, '10:45:21'),\n",
       "  Text(2, 0, '10:55:19'),\n",
       "  Text(3, 0, '14:38:01'),\n",
       "  Text(4, 0, '15:09:18'),\n",
       "  Text(5, 0, '14:35:34'),\n",
       "  Text(6, 0, '13:43:08'),\n",
       "  Text(7, 0, '14:19:47'),\n",
       "  Text(8, 0, '15:26:25'),\n",
       "  Text(9, 0, '13:44:56'),\n",
       "  Text(10, 0, '14:14:17'),\n",
       "  Text(11, 0, '15:46:51'),\n",
       "  Text(12, 0, '12:45:14'),\n",
       "  Text(13, 0, '14:08:27'),\n",
       "  Text(14, 0, '13:08:30'),\n",
       "  Text(15, 0, '13:14:04'),\n",
       "  Text(16, 0, '12:58:48'),\n",
       "  Text(17, 0, '15:35:06'),\n",
       "  Text(18, 0, '12:07:19'),\n",
       "  Text(19, 0, '14:18:20'),\n",
       "  Text(20, 0, '12:16:32'),\n",
       "  Text(21, 0, '13:41:06'),\n",
       "  Text(22, 0, '12:49:53'),\n",
       "  Text(23, 0, '16:09:51'),\n",
       "  Text(24, 0, '13:19:35')])"
      ]
     },
     "execution_count": 16,
     "metadata": {},
     "output_type": "execute_result"
    },
    {
     "data": {
      "image/png": "[encoded data removed]",
      "text/plain": [
       "<Figure size 432x288 with 1 Axes>"
      ]
     },
     "metadata": {
      "needs_background": "light"
     },
     "output_type": "display_data"
    }
   ],
   "source": [
    "sns.countplot(x = 'Time', data = basket,order= basket['Time'].value_counts().iloc[:25].index)\n",
    "plt.xticks(rotation=90)"
   ]
  },
  {
   "cell_type": "code",
   "execution_count": 17,
   "id": "65a9ba68",
   "metadata": {},
   "outputs": [
    {
     "data": {
      "text/plain": [
       "<AxesSubplot:xlabel='Item', ylabel='count'>"
      ]
     },
     "execution_count": 17,
     "metadata": {},
     "output_type": "execute_result"
    },
    {
     "data": {
      "image/png": "[encoded data removed]",
      "text/plain": [
       "<Figure size 432x288 with 1 Axes>"
      ]
     },
     "metadata": {
      "needs_background": "light"
     },
     "output_type": "display_data"
    }
   ],
   "source": [
    "plt.xticks(rotation = 45)\n",
    "sns.countplot(x = 'Item', data = basket,order=basket['Item'].value_counts().iloc[:10].index)"
   ]
  },
  {
   "cell_type": "code",
   "execution_count": 18,
   "id": "92a54c87",
   "metadata": {},
   "outputs": [
    {
     "name": "stdout",
     "output_type": "stream",
     "text": [
      "Maximum numbers of tea sold: 20\n",
      "Maximum numbers of coffee sold: 72\n"
     ]
    },
    {
     "data": {
      "image/png": "[encoded data removed]",
      "text/plain": [
       "<Figure size 864x360 with 1 Axes>"
      ]
     },
     "metadata": {
      "needs_background": "light"
     },
     "output_type": "display_data"
    }
   ],
   "source": [
    "TC = basket.groupby(\"Date\")[\"Item\"].apply(lambda x: x[x==\"Tea\"].count()).rename(\"Teas sold\").to_frame()\n",
    "TC[\"Coffees sold\"] = basket.groupby(\"Date\")[\"Item\"].apply(lambda x: x[x==\"Coffee\"].count())\n",
    "TC.plot(figsize=(12,5))\n",
    "plt.ylim([0,80])\n",
    "plt.grid(True)\n",
    "plt.legend()\n",
    "print(\"Maximum numbers of tea sold: \" +str(TC[\"Teas sold\"].max()))\n",
    "print(\"Maximum numbers of coffee sold: \"+str(TC[\"Coffees sold\"].max()))"
   ]
  },
  {
   "cell_type": "code",
   "execution_count": 22,
   "id": "84424971",
   "metadata": {},
   "outputs": [
    {
     "data": {
      "text/plain": [
       "[Text(0, 0, '1/2016'),\n",
       " Text(1, 0, '1/2017'),\n",
       " Text(2, 0, '2/2016'),\n",
       " Text(3, 0, '2/2017'),\n",
       " Text(4, 0, '3/2016'),\n",
       " Text(5, 0, '3/2017'),\n",
       " Text(6, 0, '4/2016'),\n",
       " Text(7, 0, '4/2017'),\n",
       " Text(8, 0, '5/2016'),\n",
       " Text(9, 0, '5/2017'),\n",
       " Text(10, 0, '6/2016'),\n",
       " Text(11, 0, '6/2017'),\n",
       " Text(12, 0, '7/2016'),\n",
       " Text(13, 0, '7/2017'),\n",
       " Text(14, 0, '8/2016'),\n",
       " Text(15, 0, '8/2017'),\n",
       " Text(16, 0, '9/2016'),\n",
       " Text(17, 0, '9/2017'),\n",
       " Text(18, 0, '10/2016'),\n",
       " Text(19, 0, '10/2017'),\n",
       " Text(20, 0, '11/2016'),\n",
       " Text(21, 0, '11/2017'),\n",
       " Text(22, 0, '12/2016'),\n",
       " Text(23, 0, '12/2017')]"
      ]
     },
     "execution_count": 22,
     "metadata": {},
     "output_type": "execute_result"
    },
    {
     "data": {
      "image/png": "[encoded data removed]",
      "text/plain": [
       "<Figure size 360x288 with 1 Axes>"
      ]
     },
     "metadata": {
      "needs_background": "light"
     },
     "output_type": "display_data"
    }
   ],
   "source": [
    "month_year= basket.copy()\n",
    "month_year['Date']=pd.to_datetime(month_year['Date'])\n",
    "month_year['Month'],month_year['Year']= month_year['Date'].dt.month,month_year['Date'].dt.year\n",
    "\n",
    "grp_month_year=month_year.groupby(['Month', 'Year'])['Transaction'].count().reset_index()\n",
    "grp_month_year['Period'] = grp_month_year.Month.astype(str).str.cat(grp_month_year.Year.astype(str), sep = '/')\n",
    "fig,axis=plt.subplots(figsize=(5,4))\n",
    "axis=sns.barplot(data=grp_month_year,x='Period',y='Transaction', color = (\"#FC4E07\"))\n",
    "axis.set_xlabel('Month & Year')\n",
    "axis.set_ylabel('Nombre of Transarctions')\n",
    "axis.set_xticklabels(grp_month_year['Period'], rotation=60)\n"
   ]
  },
  {
   "cell_type": "code",
   "execution_count": 25,
   "id": "7100ecd5",
   "metadata": {},
   "outputs": [
    {
     "ename": "AttributeError",
     "evalue": "'DatetimeProperties' object has no attribute 'weekday_name'",
     "output_type": "error",
     "traceback": [
      "\u001b[1;31m---------------------------------------------------------------------------\u001b[0m",
      "\u001b[1;31mAttributeError\u001b[0m                            Traceback (most recent call last)",
      "\u001b[1;32m~\\AppData\\Local\\Temp/ipykernel_15128/1309637110.py\u001b[0m in \u001b[0;36m<module>\u001b[1;34m\u001b[0m\n\u001b[0;32m      1\u001b[0m \u001b[1;31m# number of transactions per day\u001b[0m\u001b[1;33m\u001b[0m\u001b[1;33m\u001b[0m\u001b[0m\n\u001b[0;32m      2\u001b[0m \u001b[0mbasket\u001b[0m\u001b[1;33m[\u001b[0m\u001b[1;34m\"Date\"\u001b[0m\u001b[1;33m]\u001b[0m \u001b[1;33m=\u001b[0m \u001b[0mpd\u001b[0m\u001b[1;33m.\u001b[0m\u001b[0mto_datetime\u001b[0m\u001b[1;33m(\u001b[0m\u001b[0mbasket\u001b[0m\u001b[1;33m[\u001b[0m\u001b[1;34m\"Date\"\u001b[0m\u001b[1;33m]\u001b[0m\u001b[1;33m)\u001b[0m\u001b[1;33m\u001b[0m\u001b[1;33m\u001b[0m\u001b[0m\n\u001b[1;32m----> 3\u001b[1;33m \u001b[0mbasket\u001b[0m\u001b[1;33m[\u001b[0m\u001b[1;34m\"Weekday\"\u001b[0m\u001b[1;33m]\u001b[0m \u001b[1;33m=\u001b[0m \u001b[0mbasket\u001b[0m\u001b[1;33m[\u001b[0m\u001b[1;34m\"Date\"\u001b[0m\u001b[1;33m]\u001b[0m\u001b[1;33m.\u001b[0m\u001b[0mdt\u001b[0m\u001b[1;33m.\u001b[0m\u001b[0mweekday_name\u001b[0m\u001b[1;33m\u001b[0m\u001b[1;33m\u001b[0m\u001b[0m\n\u001b[0m\u001b[0;32m      4\u001b[0m \u001b[0mbasket\u001b[0m\u001b[1;33m[\u001b[0m\u001b[1;34m'Weekday'\u001b[0m\u001b[1;33m]\u001b[0m\u001b[1;33m.\u001b[0m\u001b[0mvalue_counts\u001b[0m\u001b[1;33m(\u001b[0m\u001b[1;33m)\u001b[0m\u001b[1;33m\u001b[0m\u001b[1;33m\u001b[0m\u001b[0m\n",
      "\u001b[1;31mAttributeError\u001b[0m: 'DatetimeProperties' object has no attribute 'weekday_name'"
     ]
    }
   ],
   "source": [
    "# number of transactions per day\n",
    "basket[\"Date\"] = pd.to_datetime(basket[\"Date\"])\n",
    "basket[\"Weekday\"] = basket[\"Date\"].dt.weekday_name\n",
    "basket['Weekday'].value_counts()"
   ]
  },
  {
   "cell_type": "code",
   "execution_count": 27,
   "id": "ef2321fe",
   "metadata": {},
   "outputs": [
    {
     "name": "stderr",
     "output_type": "stream",
     "text": [
      "<>:7: DeprecationWarning: invalid escape sequence \\m\n",
      "<>:7: DeprecationWarning: invalid escape sequence \\m\n",
      "C:\\Users\\maity\\AppData\\Local\\Temp/ipykernel_15128/3447775093.py:7: DeprecationWarning: invalid escape sequence \\m\n",
      "  text1 = '$\\mu=$' +str(mean)[:-2]\n"
     ]
    },
    {
     "data": {
      "image/png": "[encoded data removed]",
      "text/plain": [
       "<Figure size 864x360 with 1 Axes>"
      ]
     },
     "metadata": {
      "needs_background": "light"
     },
     "output_type": "display_data"
    }
   ],
   "source": [
    "products_days = basket[\"Date\"].value_counts().sort_index().rename(\"Products sold\")\n",
    "\n",
    "mean = round(products_days.mean(),0)\n",
    "maximum_day = products_days.index[products_days==products_days.max()][0]\n",
    "\n",
    "ax = products_days.plot(figsize=(12,5), x_compat=True)\n",
    "text1 = '$\\mu=$' +str(mean)[:-2]\n",
    "plt.grid(True)\n",
    "plt.title(\"Number of products sold everyday\")\n",
    "plt.axhline(mean, c=\"k\", linestyle='--')\n",
    "plt.tight_layout()"
   ]
  },
  {
   "cell_type": "code",
   "execution_count": 32,
   "id": "8db45164",
   "metadata": {},
   "outputs": [
    {
     "ename": "KeyError",
     "evalue": "'Weekday'",
     "output_type": "error",
     "traceback": [
      "\u001b[1;31m---------------------------------------------------------------------------\u001b[0m",
      "\u001b[1;31mKeyError\u001b[0m                                  Traceback (most recent call last)",
      "\u001b[1;32mC:\\ProgramData\\Anaconda3\\lib\\site-packages\\pandas\\core\\indexes\\base.py\u001b[0m in \u001b[0;36mget_loc\u001b[1;34m(self, key, method, tolerance)\u001b[0m\n\u001b[0;32m   3360\u001b[0m             \u001b[1;32mtry\u001b[0m\u001b[1;33m:\u001b[0m\u001b[1;33m\u001b[0m\u001b[1;33m\u001b[0m\u001b[0m\n\u001b[1;32m-> 3361\u001b[1;33m                 \u001b[1;32mreturn\u001b[0m \u001b[0mself\u001b[0m\u001b[1;33m.\u001b[0m\u001b[0m_engine\u001b[0m\u001b[1;33m.\u001b[0m\u001b[0mget_loc\u001b[0m\u001b[1;33m(\u001b[0m\u001b[0mcasted_key\u001b[0m\u001b[1;33m)\u001b[0m\u001b[1;33m\u001b[0m\u001b[1;33m\u001b[0m\u001b[0m\n\u001b[0m\u001b[0;32m   3362\u001b[0m             \u001b[1;32mexcept\u001b[0m \u001b[0mKeyError\u001b[0m \u001b[1;32mas\u001b[0m \u001b[0merr\u001b[0m\u001b[1;33m:\u001b[0m\u001b[1;33m\u001b[0m\u001b[1;33m\u001b[0m\u001b[0m\n",
      "\u001b[1;32mC:\\ProgramData\\Anaconda3\\lib\\site-packages\\pandas\\_libs\\index.pyx\u001b[0m in \u001b[0;36mpandas._libs.index.IndexEngine.get_loc\u001b[1;34m()\u001b[0m\n",
      "\u001b[1;32mC:\\ProgramData\\Anaconda3\\lib\\site-packages\\pandas\\_libs\\index.pyx\u001b[0m in \u001b[0;36mpandas._libs.index.IndexEngine.get_loc\u001b[1;34m()\u001b[0m\n",
      "\u001b[1;32mpandas\\_libs\\hashtable_class_helper.pxi\u001b[0m in \u001b[0;36mpandas._libs.hashtable.PyObjectHashTable.get_item\u001b[1;34m()\u001b[0m\n",
      "\u001b[1;32mpandas\\_libs\\hashtable_class_helper.pxi\u001b[0m in \u001b[0;36mpandas._libs.hashtable.PyObjectHashTable.get_item\u001b[1;34m()\u001b[0m\n",
      "\u001b[1;31mKeyError\u001b[0m: 'Weekday'",
      "\nThe above exception was the direct cause of the following exception:\n",
      "\u001b[1;31mKeyError\u001b[0m                                  Traceback (most recent call last)",
      "\u001b[1;32m~\\AppData\\Local\\Temp/ipykernel_15128/3718846327.py\u001b[0m in \u001b[0;36m<module>\u001b[1;34m\u001b[0m\n\u001b[0;32m      1\u001b[0m \u001b[0mfig\u001b[0m\u001b[1;33m,\u001b[0m \u001b[0max\u001b[0m \u001b[1;33m=\u001b[0m \u001b[0mplt\u001b[0m\u001b[1;33m.\u001b[0m\u001b[0msubplots\u001b[0m\u001b[1;33m(\u001b[0m\u001b[1;33m)\u001b[0m\u001b[1;33m\u001b[0m\u001b[1;33m\u001b[0m\u001b[0m\n\u001b[0;32m      2\u001b[0m \u001b[0mdays\u001b[0m \u001b[1;33m=\u001b[0m \u001b[1;33m[\u001b[0m\u001b[1;34m'Monday'\u001b[0m\u001b[1;33m,\u001b[0m\u001b[1;34m'Tuesday'\u001b[0m\u001b[1;33m,\u001b[0m\u001b[1;34m'Wednesday'\u001b[0m\u001b[1;33m,\u001b[0m\u001b[1;34m'Thursday'\u001b[0m\u001b[1;33m,\u001b[0m\u001b[1;34m'Friday'\u001b[0m\u001b[1;33m,\u001b[0m\u001b[1;34m'Saturday'\u001b[0m\u001b[1;33m,\u001b[0m \u001b[1;34m'Sunday'\u001b[0m\u001b[1;33m]\u001b[0m\u001b[1;33m\u001b[0m\u001b[1;33m\u001b[0m\u001b[0m\n\u001b[1;32m----> 3\u001b[1;33m \u001b[0mproducts_weekdays\u001b[0m \u001b[1;33m=\u001b[0m \u001b[0mbasket\u001b[0m\u001b[1;33m[\u001b[0m\u001b[1;34m\"Weekday\"\u001b[0m\u001b[1;33m]\u001b[0m\u001b[1;33m.\u001b[0m\u001b[0mvalue_counts\u001b[0m\u001b[1;33m(\u001b[0m\u001b[1;33m)\u001b[0m\u001b[1;33m.\u001b[0m\u001b[0mrename\u001b[0m\u001b[1;33m(\u001b[0m\u001b[1;34m\"Products sold\"\u001b[0m\u001b[1;33m)\u001b[0m\u001b[1;33m.\u001b[0m\u001b[0mreindex\u001b[0m\u001b[1;33m(\u001b[0m\u001b[0mdays\u001b[0m\u001b[1;33m)\u001b[0m\u001b[1;33m\u001b[0m\u001b[1;33m\u001b[0m\u001b[0m\n\u001b[0m\u001b[0;32m      4\u001b[0m \u001b[0mproducts_weekdays\u001b[0m\u001b[1;33m.\u001b[0m\u001b[0mplot\u001b[0m\u001b[1;33m(\u001b[0m\u001b[0mkind\u001b[0m\u001b[1;33m=\u001b[0m\u001b[1;34m'bar'\u001b[0m\u001b[1;33m,\u001b[0m \u001b[0mfigsize\u001b[0m\u001b[1;33m=\u001b[0m\u001b[1;33m(\u001b[0m\u001b[1;36m8\u001b[0m\u001b[1;33m,\u001b[0m\u001b[1;36m7\u001b[0m\u001b[1;33m)\u001b[0m\u001b[1;33m,\u001b[0m \u001b[0max\u001b[0m\u001b[1;33m=\u001b[0m\u001b[0max\u001b[0m\u001b[1;33m,\u001b[0m \u001b[0mcolor\u001b[0m\u001b[1;33m=\u001b[0m\u001b[1;33m(\u001b[0m\u001b[1;34m\"#00b3b0\"\u001b[0m\u001b[1;33m)\u001b[0m\u001b[1;33m)\u001b[0m\u001b[1;33m\u001b[0m\u001b[1;33m\u001b[0m\u001b[0m\n\u001b[0;32m      5\u001b[0m \u001b[0mplt\u001b[0m\u001b[1;33m.\u001b[0m\u001b[0mxticks\u001b[0m\u001b[1;33m(\u001b[0m\u001b[0mrotation\u001b[0m\u001b[1;33m=\u001b[0m\u001b[1;36m0\u001b[0m\u001b[1;33m)\u001b[0m\u001b[1;33m\u001b[0m\u001b[1;33m\u001b[0m\u001b[0m\n",
      "\u001b[1;32mC:\\ProgramData\\Anaconda3\\lib\\site-packages\\pandas\\core\\frame.py\u001b[0m in \u001b[0;36m__getitem__\u001b[1;34m(self, key)\u001b[0m\n\u001b[0;32m   3456\u001b[0m             \u001b[1;32mif\u001b[0m \u001b[0mself\u001b[0m\u001b[1;33m.\u001b[0m\u001b[0mcolumns\u001b[0m\u001b[1;33m.\u001b[0m\u001b[0mnlevels\u001b[0m \u001b[1;33m>\u001b[0m \u001b[1;36m1\u001b[0m\u001b[1;33m:\u001b[0m\u001b[1;33m\u001b[0m\u001b[1;33m\u001b[0m\u001b[0m\n\u001b[0;32m   3457\u001b[0m                 \u001b[1;32mreturn\u001b[0m \u001b[0mself\u001b[0m\u001b[1;33m.\u001b[0m\u001b[0m_getitem_multilevel\u001b[0m\u001b[1;33m(\u001b[0m\u001b[0mkey\u001b[0m\u001b[1;33m)\u001b[0m\u001b[1;33m\u001b[0m\u001b[1;33m\u001b[0m\u001b[0m\n\u001b[1;32m-> 3458\u001b[1;33m             \u001b[0mindexer\u001b[0m \u001b[1;33m=\u001b[0m \u001b[0mself\u001b[0m\u001b[1;33m.\u001b[0m\u001b[0mcolumns\u001b[0m\u001b[1;33m.\u001b[0m\u001b[0mget_loc\u001b[0m\u001b[1;33m(\u001b[0m\u001b[0mkey\u001b[0m\u001b[1;33m)\u001b[0m\u001b[1;33m\u001b[0m\u001b[1;33m\u001b[0m\u001b[0m\n\u001b[0m\u001b[0;32m   3459\u001b[0m             \u001b[1;32mif\u001b[0m \u001b[0mis_integer\u001b[0m\u001b[1;33m(\u001b[0m\u001b[0mindexer\u001b[0m\u001b[1;33m)\u001b[0m\u001b[1;33m:\u001b[0m\u001b[1;33m\u001b[0m\u001b[1;33m\u001b[0m\u001b[0m\n\u001b[0;32m   3460\u001b[0m                 \u001b[0mindexer\u001b[0m \u001b[1;33m=\u001b[0m \u001b[1;33m[\u001b[0m\u001b[0mindexer\u001b[0m\u001b[1;33m]\u001b[0m\u001b[1;33m\u001b[0m\u001b[1;33m\u001b[0m\u001b[0m\n",
      "\u001b[1;32mC:\\ProgramData\\Anaconda3\\lib\\site-packages\\pandas\\core\\indexes\\base.py\u001b[0m in \u001b[0;36mget_loc\u001b[1;34m(self, key, method, tolerance)\u001b[0m\n\u001b[0;32m   3361\u001b[0m                 \u001b[1;32mreturn\u001b[0m \u001b[0mself\u001b[0m\u001b[1;33m.\u001b[0m\u001b[0m_engine\u001b[0m\u001b[1;33m.\u001b[0m\u001b[0mget_loc\u001b[0m\u001b[1;33m(\u001b[0m\u001b[0mcasted_key\u001b[0m\u001b[1;33m)\u001b[0m\u001b[1;33m\u001b[0m\u001b[1;33m\u001b[0m\u001b[0m\n\u001b[0;32m   3362\u001b[0m             \u001b[1;32mexcept\u001b[0m \u001b[0mKeyError\u001b[0m \u001b[1;32mas\u001b[0m \u001b[0merr\u001b[0m\u001b[1;33m:\u001b[0m\u001b[1;33m\u001b[0m\u001b[1;33m\u001b[0m\u001b[0m\n\u001b[1;32m-> 3363\u001b[1;33m                 \u001b[1;32mraise\u001b[0m \u001b[0mKeyError\u001b[0m\u001b[1;33m(\u001b[0m\u001b[0mkey\u001b[0m\u001b[1;33m)\u001b[0m \u001b[1;32mfrom\u001b[0m \u001b[0merr\u001b[0m\u001b[1;33m\u001b[0m\u001b[1;33m\u001b[0m\u001b[0m\n\u001b[0m\u001b[0;32m   3364\u001b[0m \u001b[1;33m\u001b[0m\u001b[0m\n\u001b[0;32m   3365\u001b[0m         \u001b[1;32mif\u001b[0m \u001b[0mis_scalar\u001b[0m\u001b[1;33m(\u001b[0m\u001b[0mkey\u001b[0m\u001b[1;33m)\u001b[0m \u001b[1;32mand\u001b[0m \u001b[0misna\u001b[0m\u001b[1;33m(\u001b[0m\u001b[0mkey\u001b[0m\u001b[1;33m)\u001b[0m \u001b[1;32mand\u001b[0m \u001b[1;32mnot\u001b[0m \u001b[0mself\u001b[0m\u001b[1;33m.\u001b[0m\u001b[0mhasnans\u001b[0m\u001b[1;33m:\u001b[0m\u001b[1;33m\u001b[0m\u001b[1;33m\u001b[0m\u001b[0m\n",
      "\u001b[1;31mKeyError\u001b[0m: 'Weekday'"
     ]
    },
    {
     "data": {
      "image/png": "[encoded data removed]",
      "text/plain": [
       "<Figure size 432x288 with 1 Axes>"
      ]
     },
     "metadata": {
      "needs_background": "light"
     },
     "output_type": "display_data"
    }
   ],
   "source": [
    "fig, ax = plt.subplots()\n",
    "days = ['Monday','Tuesday','Wednesday','Thursday','Friday','Saturday', 'Sunday']\n",
    "products_weekdays = basket[\"Weekday\"].value_counts().rename(\"Products sold\").reindex(days)\n",
    "products_weekdays.plot(kind='bar', figsize=(8,7), ax=ax, color=(\"#00b3b0\"))\n",
    "plt.xticks(rotation=0)\n",
    "for i, v in enumerate(products_weekdays.values):\n",
    "    ax.text(i, v+80, str(v), color=\"#000d1a\", fontweight='bold', fontsize=14, ha='center')"
   ]
  },
  {
   "cell_type": "code",
   "execution_count": 33,
   "id": "8478c9bb",
   "metadata": {},
   "outputs": [],
   "source": [
    "part_of_day=basket.copy()\n",
    "part_of_day['timestamp'] = part_of_day.Date.astype(str).str.cat(part_of_day.Time.astype(str), sep=' ')\n",
    "part_of_day['timestamp']=pd.to_datetime(part_of_day['timestamp'])\n",
    "\n",
    "part_of_day['hour'] = part_of_day['timestamp'].dt.round('H').dt.hour\n",
    "part_of_day.drop(['Time','Date'],axis=1,inplace=True)"
   ]
  },
  {
   "cell_type": "code",
   "execution_count": 34,
   "id": "3a54e931",
   "metadata": {},
   "outputs": [
    {
     "data": {
      "text/html": [
       "<div>\n",
       "<style scoped>\n",
       "    .dataframe tbody tr th:only-of-type {\n",
       "        vertical-align: middle;\n",
       "    }\n",
       "\n",
       "    .dataframe tbody tr th {\n",
       "        vertical-align: top;\n",
       "    }\n",
       "\n",
       "    .dataframe thead th {\n",
       "        text-align: right;\n",
       "    }\n",
       "</style>\n",
       "<table border=\"1\" class=\"dataframe\">\n",
       "  <thead>\n",
       "    <tr style=\"text-align: right;\">\n",
       "      <th></th>\n",
       "      <th>hour</th>\n",
       "      <th>Item</th>\n",
       "    </tr>\n",
       "  </thead>\n",
       "  <tbody>\n",
       "    <tr>\n",
       "      <th>0</th>\n",
       "      <td>7</td>\n",
       "      <td>1</td>\n",
       "    </tr>\n",
       "    <tr>\n",
       "      <th>1</th>\n",
       "      <td>8</td>\n",
       "      <td>81</td>\n",
       "    </tr>\n",
       "    <tr>\n",
       "      <th>2</th>\n",
       "      <td>9</td>\n",
       "      <td>414</td>\n",
       "    </tr>\n",
       "    <tr>\n",
       "      <th>3</th>\n",
       "      <td>10</td>\n",
       "      <td>682</td>\n",
       "    </tr>\n",
       "    <tr>\n",
       "      <th>4</th>\n",
       "      <td>11</td>\n",
       "      <td>944</td>\n",
       "    </tr>\n",
       "    <tr>\n",
       "      <th>5</th>\n",
       "      <td>12</td>\n",
       "      <td>831</td>\n",
       "    </tr>\n",
       "    <tr>\n",
       "      <th>6</th>\n",
       "      <td>13</td>\n",
       "      <td>651</td>\n",
       "    </tr>\n",
       "    <tr>\n",
       "      <th>7</th>\n",
       "      <td>14</td>\n",
       "      <td>630</td>\n",
       "    </tr>\n",
       "    <tr>\n",
       "      <th>8</th>\n",
       "      <td>15</td>\n",
       "      <td>571</td>\n",
       "    </tr>\n",
       "    <tr>\n",
       "      <th>9</th>\n",
       "      <td>16</td>\n",
       "      <td>453</td>\n",
       "    </tr>\n",
       "    <tr>\n",
       "      <th>10</th>\n",
       "      <td>17</td>\n",
       "      <td>182</td>\n",
       "    </tr>\n",
       "    <tr>\n",
       "      <th>11</th>\n",
       "      <td>18</td>\n",
       "      <td>22</td>\n",
       "    </tr>\n",
       "    <tr>\n",
       "      <th>12</th>\n",
       "      <td>19</td>\n",
       "      <td>8</td>\n",
       "    </tr>\n",
       "    <tr>\n",
       "      <th>13</th>\n",
       "      <td>20</td>\n",
       "      <td>1</td>\n",
       "    </tr>\n",
       "  </tbody>\n",
       "</table>\n",
       "</div>"
      ],
      "text/plain": [
       "    hour  Item\n",
       "0      7     1\n",
       "1      8    81\n",
       "2      9   414\n",
       "3     10   682\n",
       "4     11   944\n",
       "5     12   831\n",
       "6     13   651\n",
       "7     14   630\n",
       "8     15   571\n",
       "9     16   453\n",
       "10    17   182\n",
       "11    18    22\n",
       "12    19     8\n",
       "13    20     1"
      ]
     },
     "execution_count": 34,
     "metadata": {},
     "output_type": "execute_result"
    }
   ],
   "source": [
    "#Coffee hours\n",
    "cof_hours=part_of_day[(part_of_day['Item']== 'Coffee')]\n",
    "cof_hours=cof_hours.groupby('hour')['Item'].count()\n",
    "cof_hours=cof_hours.reset_index()\n",
    "cof_hours"
   ]
  },
  {
   "cell_type": "code",
   "execution_count": 36,
   "id": "c7416f1f",
   "metadata": {},
   "outputs": [
    {
     "data": {
      "text/plain": [
       "Text(0, 0.5, 'Nombre of Times Coffee is Sold')"
      ]
     },
     "execution_count": 36,
     "metadata": {},
     "output_type": "execute_result"
    },
    {
     "data": {
      "image/png": "[encoded data removed]",
      "text/plain": [
       "<Figure size 576x360 with 1 Axes>"
      ]
     },
     "metadata": {
      "needs_background": "light"
     },
     "output_type": "display_data"
    }
   ],
   "source": [
    "fig,ax=plt.subplots(figsize=(8,5))\n",
    "ax=sns.barplot(data=cof_hours,x='hour',y='Item')\n",
    "ax.set_xlabel('Hours Of The Day')\n",
    "ax.set_ylabel('Nombre of Times Coffee is Sold')\n"
   ]
  },
  {
   "cell_type": "code",
   "execution_count": 37,
   "id": "f627e001",
   "metadata": {},
   "outputs": [
    {
     "data": {
      "text/plain": [
       "Text(0, 0.5, 'Nombre of Times Bread is Sold')"
      ]
     },
     "execution_count": 37,
     "metadata": {},
     "output_type": "execute_result"
    },
    {
     "data": {
      "image/png": "[encoded data removed]",
      "text/plain": [
       "<Figure size 576x360 with 1 Axes>"
      ]
     },
     "metadata": {
      "needs_background": "light"
     },
     "output_type": "display_data"
    }
   ],
   "source": [
    "bread_hours = part_of_day[part_of_day['Item']=='Bread']\n",
    "bread_hours = bread_hours.groupby('hour')['Item'].count()\n",
    "bread_hours = bread_hours.reset_index()\n",
    "fig,ax = plt.subplots(figsize=(8,5))\n",
    "ax = sns.barplot(data=bread_hours, x= 'hour', y='Item')\n",
    "ax.set_xlabel('Hours of the Day')\n",
    "ax.set_ylabel('Nombre of Times Bread is Sold')"
   ]
  },
  {
   "cell_type": "raw",
   "id": "bf54b6e9",
   "metadata": {},
   "source": []
  },
  {
   "cell_type": "code",
   "execution_count": 38,
   "id": "a639dd83",
   "metadata": {},
   "outputs": [
    {
     "data": {
      "text/plain": [
       "Text(0, 0.5, 'Nombre of Times Cake and pastry is Sold')"
      ]
     },
     "execution_count": 38,
     "metadata": {},
     "output_type": "execute_result"
    },
    {
     "data": {
      "image/png": "[encoded data removed]",
      "text/plain": [
       "<Figure size 576x360 with 1 Axes>"
      ]
     },
     "metadata": {
      "needs_background": "light"
     },
     "output_type": "display_data"
    }
   ],
   "source": [
    "#Cake or Pastry hours\n",
    "cake_hours=part_of_day.loc[(part_of_day['Item']=='Cake') | (part_of_day['Item']=='Pastry')]\n",
    "cake_hours=cake_hours.groupby('hour')['Item'].count()\n",
    "cake_hours=cake_hours.reset_index()\n",
    "\n",
    "fig,ax=plt.subplots(figsize=(8,5))\n",
    "ax=sns.barplot(data=cake_hours,x='hour',y='Item')\n",
    "ax.set_xlabel('Hours Of The Day')\n",
    "ax.set_ylabel('Nombre of Times Cake and pastry is Sold')"
   ]
  },
  {
   "cell_type": "code",
   "execution_count": 39,
   "id": "7d15c463",
   "metadata": {},
   "outputs": [
    {
     "data": {
      "text/plain": [
       "Text(0, 0.5, 'Nombre of Times Tea is Sold')"
      ]
     },
     "execution_count": 39,
     "metadata": {},
     "output_type": "execute_result"
    },
    {
     "data": {
      "image/png": "[encoded data removed]",
      "text/plain": [
       "<Figure size 576x360 with 1 Axes>"
      ]
     },
     "metadata": {
      "needs_background": "light"
     },
     "output_type": "display_data"
    }
   ],
   "source": [
    "#Tea hours\n",
    "tea_hours=part_of_day.loc[(part_of_day['Item']=='Tea')]\n",
    "tea_hours=tea_hours.groupby('hour')['Item'].count()\n",
    "tea_hours=tea_hours.reset_index()\n",
    "\n",
    "fig,ax=plt.subplots(figsize=(8,5))\n",
    "ax=sns.barplot(data=tea_hours,x='hour',y='Item')\n",
    "ax.set_xlabel('Hours Of The Day')\n",
    "ax.set_ylabel('Nombre of Times Tea is Sold')"
   ]
  },
  {
   "cell_type": "code",
   "execution_count": 40,
   "id": "178367ae",
   "metadata": {},
   "outputs": [],
   "source": [
    "df = basket.groupby(['Transaction','Item']).size().reset_index(name='count')\n",
    "basket0 = (df.groupby(['Transaction', 'Item'])['count']\n",
    "          .sum().unstack().reset_index().fillna(0)\n",
    "          .set_index('Transaction'))\n",
    "#The encoding function\n",
    "def encode_units(x):\n",
    "    if x <= 0:\n",
    "        return 0\n",
    "    if x >= 1:\n",
    "        return 1\n",
    "basket_sets = basket0.applymap(encode_units)"
   ]
  },
  {
   "cell_type": "code",
   "execution_count": 41,
   "id": "ec1ddcf9",
   "metadata": {},
   "outputs": [
    {
     "data": {
      "text/html": [
       "<div>\n",
       "<style scoped>\n",
       "    .dataframe tbody tr th:only-of-type {\n",
       "        vertical-align: middle;\n",
       "    }\n",
       "\n",
       "    .dataframe tbody tr th {\n",
       "        vertical-align: top;\n",
       "    }\n",
       "\n",
       "    .dataframe thead th {\n",
       "        text-align: right;\n",
       "    }\n",
       "</style>\n",
       "<table border=\"1\" class=\"dataframe\">\n",
       "  <thead>\n",
       "    <tr style=\"text-align: right;\">\n",
       "      <th>Item</th>\n",
       "      <th>Adjustment</th>\n",
       "      <th>Afternoon with the baker</th>\n",
       "      <th>Alfajores</th>\n",
       "      <th>Argentina Night</th>\n",
       "      <th>Art Tray</th>\n",
       "      <th>Bacon</th>\n",
       "      <th>Baguette</th>\n",
       "      <th>Bakewell</th>\n",
       "      <th>Bare Popcorn</th>\n",
       "      <th>Basket</th>\n",
       "      <th>...</th>\n",
       "      <th>The BART</th>\n",
       "      <th>The Nomad</th>\n",
       "      <th>Tiffin</th>\n",
       "      <th>Toast</th>\n",
       "      <th>Truffles</th>\n",
       "      <th>Tshirt</th>\n",
       "      <th>Valentine's card</th>\n",
       "      <th>Vegan Feast</th>\n",
       "      <th>Vegan mincepie</th>\n",
       "      <th>Victorian Sponge</th>\n",
       "    </tr>\n",
       "    <tr>\n",
       "      <th>Transaction</th>\n",
       "      <th></th>\n",
       "      <th></th>\n",
       "      <th></th>\n",
       "      <th></th>\n",
       "      <th></th>\n",
       "      <th></th>\n",
       "      <th></th>\n",
       "      <th></th>\n",
       "      <th></th>\n",
       "      <th></th>\n",
       "      <th></th>\n",
       "      <th></th>\n",
       "      <th></th>\n",
       "      <th></th>\n",
       "      <th></th>\n",
       "      <th></th>\n",
       "      <th></th>\n",
       "      <th></th>\n",
       "      <th></th>\n",
       "      <th></th>\n",
       "      <th></th>\n",
       "    </tr>\n",
       "  </thead>\n",
       "  <tbody>\n",
       "    <tr>\n",
       "      <th>1</th>\n",
       "      <td>0</td>\n",
       "      <td>0</td>\n",
       "      <td>0</td>\n",
       "      <td>0</td>\n",
       "      <td>0</td>\n",
       "      <td>0</td>\n",
       "      <td>0</td>\n",
       "      <td>0</td>\n",
       "      <td>0</td>\n",
       "      <td>0</td>\n",
       "      <td>...</td>\n",
       "      <td>0</td>\n",
       "      <td>0</td>\n",
       "      <td>0</td>\n",
       "      <td>0</td>\n",
       "      <td>0</td>\n",
       "      <td>0</td>\n",
       "      <td>0</td>\n",
       "      <td>0</td>\n",
       "      <td>0</td>\n",
       "      <td>0</td>\n",
       "    </tr>\n",
       "    <tr>\n",
       "      <th>2</th>\n",
       "      <td>0</td>\n",
       "      <td>0</td>\n",
       "      <td>0</td>\n",
       "      <td>0</td>\n",
       "      <td>0</td>\n",
       "      <td>0</td>\n",
       "      <td>0</td>\n",
       "      <td>0</td>\n",
       "      <td>0</td>\n",
       "      <td>0</td>\n",
       "      <td>...</td>\n",
       "      <td>0</td>\n",
       "      <td>0</td>\n",
       "      <td>0</td>\n",
       "      <td>0</td>\n",
       "      <td>0</td>\n",
       "      <td>0</td>\n",
       "      <td>0</td>\n",
       "      <td>0</td>\n",
       "      <td>0</td>\n",
       "      <td>0</td>\n",
       "    </tr>\n",
       "    <tr>\n",
       "      <th>3</th>\n",
       "      <td>0</td>\n",
       "      <td>0</td>\n",
       "      <td>0</td>\n",
       "      <td>0</td>\n",
       "      <td>0</td>\n",
       "      <td>0</td>\n",
       "      <td>0</td>\n",
       "      <td>0</td>\n",
       "      <td>0</td>\n",
       "      <td>0</td>\n",
       "      <td>...</td>\n",
       "      <td>0</td>\n",
       "      <td>0</td>\n",
       "      <td>0</td>\n",
       "      <td>0</td>\n",
       "      <td>0</td>\n",
       "      <td>0</td>\n",
       "      <td>0</td>\n",
       "      <td>0</td>\n",
       "      <td>0</td>\n",
       "      <td>0</td>\n",
       "    </tr>\n",
       "    <tr>\n",
       "      <th>4</th>\n",
       "      <td>0</td>\n",
       "      <td>0</td>\n",
       "      <td>0</td>\n",
       "      <td>0</td>\n",
       "      <td>0</td>\n",
       "      <td>0</td>\n",
       "      <td>0</td>\n",
       "      <td>0</td>\n",
       "      <td>0</td>\n",
       "      <td>0</td>\n",
       "      <td>...</td>\n",
       "      <td>0</td>\n",
       "      <td>0</td>\n",
       "      <td>0</td>\n",
       "      <td>0</td>\n",
       "      <td>0</td>\n",
       "      <td>0</td>\n",
       "      <td>0</td>\n",
       "      <td>0</td>\n",
       "      <td>0</td>\n",
       "      <td>0</td>\n",
       "    </tr>\n",
       "    <tr>\n",
       "      <th>5</th>\n",
       "      <td>0</td>\n",
       "      <td>0</td>\n",
       "      <td>0</td>\n",
       "      <td>0</td>\n",
       "      <td>0</td>\n",
       "      <td>0</td>\n",
       "      <td>0</td>\n",
       "      <td>0</td>\n",
       "      <td>0</td>\n",
       "      <td>0</td>\n",
       "      <td>...</td>\n",
       "      <td>0</td>\n",
       "      <td>0</td>\n",
       "      <td>0</td>\n",
       "      <td>0</td>\n",
       "      <td>0</td>\n",
       "      <td>0</td>\n",
       "      <td>0</td>\n",
       "      <td>0</td>\n",
       "      <td>0</td>\n",
       "      <td>0</td>\n",
       "    </tr>\n",
       "  </tbody>\n",
       "</table>\n",
       "<p>5 rows × 95 columns</p>\n",
       "</div>"
      ],
      "text/plain": [
       "Item         Adjustment  Afternoon with the baker  Alfajores  Argentina Night  \\\n",
       "Transaction                                                                     \n",
       "1                     0                         0          0                0   \n",
       "2                     0                         0          0                0   \n",
       "3                     0                         0          0                0   \n",
       "4                     0                         0          0                0   \n",
       "5                     0                         0          0                0   \n",
       "\n",
       "Item         Art Tray  Bacon  Baguette  Bakewell  Bare Popcorn  Basket  ...  \\\n",
       "Transaction                                                             ...   \n",
       "1                   0      0         0         0             0       0  ...   \n",
       "2                   0      0         0         0             0       0  ...   \n",
       "3                   0      0         0         0             0       0  ...   \n",
       "4                   0      0         0         0             0       0  ...   \n",
       "5                   0      0         0         0             0       0  ...   \n",
       "\n",
       "Item         The BART  The Nomad  Tiffin  Toast  Truffles  Tshirt  \\\n",
       "Transaction                                                         \n",
       "1                   0          0       0      0         0       0   \n",
       "2                   0          0       0      0         0       0   \n",
       "3                   0          0       0      0         0       0   \n",
       "4                   0          0       0      0         0       0   \n",
       "5                   0          0       0      0         0       0   \n",
       "\n",
       "Item         Valentine's card  Vegan Feast  Vegan mincepie  Victorian Sponge  \n",
       "Transaction                                                                   \n",
       "1                           0            0               0                 0  \n",
       "2                           0            0               0                 0  \n",
       "3                           0            0               0                 0  \n",
       "4                           0            0               0                 0  \n",
       "5                           0            0               0                 0  \n",
       "\n",
       "[5 rows x 95 columns]"
      ]
     },
     "execution_count": 41,
     "metadata": {},
     "output_type": "execute_result"
    }
   ],
   "source": [
    "basket_sets.head()"
   ]
  },
  {
   "cell_type": "code",
   "execution_count": 42,
   "id": "c9c28401",
   "metadata": {},
   "outputs": [
    {
     "data": {
      "text/html": [
       "<div>\n",
       "<style scoped>\n",
       "    .dataframe tbody tr th:only-of-type {\n",
       "        vertical-align: middle;\n",
       "    }\n",
       "\n",
       "    .dataframe tbody tr th {\n",
       "        vertical-align: top;\n",
       "    }\n",
       "\n",
       "    .dataframe thead th {\n",
       "        text-align: right;\n",
       "    }\n",
       "</style>\n",
       "<table border=\"1\" class=\"dataframe\">\n",
       "  <thead>\n",
       "    <tr style=\"text-align: right;\">\n",
       "      <th>Item</th>\n",
       "      <th>Adjustment</th>\n",
       "      <th>Afternoon with the baker</th>\n",
       "      <th>Alfajores</th>\n",
       "      <th>Argentina Night</th>\n",
       "      <th>Art Tray</th>\n",
       "      <th>Bacon</th>\n",
       "      <th>Baguette</th>\n",
       "      <th>Bakewell</th>\n",
       "      <th>Bare Popcorn</th>\n",
       "      <th>Basket</th>\n",
       "      <th>...</th>\n",
       "      <th>The BART</th>\n",
       "      <th>The Nomad</th>\n",
       "      <th>Tiffin</th>\n",
       "      <th>Toast</th>\n",
       "      <th>Truffles</th>\n",
       "      <th>Tshirt</th>\n",
       "      <th>Valentine's card</th>\n",
       "      <th>Vegan Feast</th>\n",
       "      <th>Vegan mincepie</th>\n",
       "      <th>Victorian Sponge</th>\n",
       "    </tr>\n",
       "    <tr>\n",
       "      <th>Item</th>\n",
       "      <th></th>\n",
       "      <th></th>\n",
       "      <th></th>\n",
       "      <th></th>\n",
       "      <th></th>\n",
       "      <th></th>\n",
       "      <th></th>\n",
       "      <th></th>\n",
       "      <th></th>\n",
       "      <th></th>\n",
       "      <th></th>\n",
       "      <th></th>\n",
       "      <th></th>\n",
       "      <th></th>\n",
       "      <th></th>\n",
       "      <th></th>\n",
       "      <th></th>\n",
       "      <th></th>\n",
       "      <th></th>\n",
       "      <th></th>\n",
       "      <th></th>\n",
       "    </tr>\n",
       "  </thead>\n",
       "  <tbody>\n",
       "    <tr>\n",
       "      <th>Adjustment</th>\n",
       "      <td>1.000000</td>\n",
       "      <td>-0.000690</td>\n",
       "      <td>-0.001982</td>\n",
       "      <td>-0.000278</td>\n",
       "      <td>-0.000648</td>\n",
       "      <td>-0.000105</td>\n",
       "      <td>-0.001304</td>\n",
       "      <td>-0.000729</td>\n",
       "      <td>-0.000235</td>\n",
       "      <td>-0.000257</td>\n",
       "      <td>...</td>\n",
       "      <td>-0.000105</td>\n",
       "      <td>-0.000802</td>\n",
       "      <td>-0.001278</td>\n",
       "      <td>-0.001903</td>\n",
       "      <td>-0.001469</td>\n",
       "      <td>-0.000481</td>\n",
       "      <td>-0.000379</td>\n",
       "      <td>-0.000420</td>\n",
       "      <td>-0.000759</td>\n",
       "      <td>-0.000278</td>\n",
       "    </tr>\n",
       "    <tr>\n",
       "      <th>Afternoon with the baker</th>\n",
       "      <td>-0.000690</td>\n",
       "      <td>1.000000</td>\n",
       "      <td>-0.013027</td>\n",
       "      <td>0.113756</td>\n",
       "      <td>-0.004259</td>\n",
       "      <td>-0.000690</td>\n",
       "      <td>-0.008570</td>\n",
       "      <td>-0.004790</td>\n",
       "      <td>-0.001542</td>\n",
       "      <td>-0.001690</td>\n",
       "      <td>...</td>\n",
       "      <td>-0.000690</td>\n",
       "      <td>0.014863</td>\n",
       "      <td>-0.008397</td>\n",
       "      <td>-0.012507</td>\n",
       "      <td>0.001491</td>\n",
       "      <td>-0.003163</td>\n",
       "      <td>-0.002488</td>\n",
       "      <td>-0.002761</td>\n",
       "      <td>-0.004986</td>\n",
       "      <td>-0.001825</td>\n",
       "    </tr>\n",
       "    <tr>\n",
       "      <th>Alfajores</th>\n",
       "      <td>-0.001982</td>\n",
       "      <td>-0.013027</td>\n",
       "      <td>1.000000</td>\n",
       "      <td>-0.005246</td>\n",
       "      <td>0.014537</td>\n",
       "      <td>-0.001982</td>\n",
       "      <td>-0.002183</td>\n",
       "      <td>0.002126</td>\n",
       "      <td>-0.004433</td>\n",
       "      <td>-0.004857</td>\n",
       "      <td>...</td>\n",
       "      <td>-0.001982</td>\n",
       "      <td>-0.007908</td>\n",
       "      <td>0.012506</td>\n",
       "      <td>-0.020289</td>\n",
       "      <td>0.016296</td>\n",
       "      <td>-0.009093</td>\n",
       "      <td>-0.007151</td>\n",
       "      <td>-0.007935</td>\n",
       "      <td>0.000941</td>\n",
       "      <td>0.015518</td>\n",
       "    </tr>\n",
       "    <tr>\n",
       "      <th>Argentina Night</th>\n",
       "      <td>-0.000278</td>\n",
       "      <td>0.113756</td>\n",
       "      <td>-0.005246</td>\n",
       "      <td>1.000000</td>\n",
       "      <td>-0.001715</td>\n",
       "      <td>-0.000278</td>\n",
       "      <td>-0.003451</td>\n",
       "      <td>-0.001929</td>\n",
       "      <td>-0.000621</td>\n",
       "      <td>-0.000680</td>\n",
       "      <td>...</td>\n",
       "      <td>-0.000278</td>\n",
       "      <td>-0.002121</td>\n",
       "      <td>-0.003381</td>\n",
       "      <td>-0.005037</td>\n",
       "      <td>-0.003887</td>\n",
       "      <td>-0.001274</td>\n",
       "      <td>-0.001002</td>\n",
       "      <td>0.093494</td>\n",
       "      <td>-0.002008</td>\n",
       "      <td>-0.000735</td>\n",
       "    </tr>\n",
       "    <tr>\n",
       "      <th>Art Tray</th>\n",
       "      <td>-0.000648</td>\n",
       "      <td>-0.004259</td>\n",
       "      <td>0.014537</td>\n",
       "      <td>-0.001715</td>\n",
       "      <td>1.000000</td>\n",
       "      <td>0.161906</td>\n",
       "      <td>0.005236</td>\n",
       "      <td>0.019019</td>\n",
       "      <td>0.071262</td>\n",
       "      <td>-0.001588</td>\n",
       "      <td>...</td>\n",
       "      <td>-0.000648</td>\n",
       "      <td>0.016458</td>\n",
       "      <td>-0.007891</td>\n",
       "      <td>0.006788</td>\n",
       "      <td>0.014630</td>\n",
       "      <td>-0.002973</td>\n",
       "      <td>-0.002338</td>\n",
       "      <td>-0.002594</td>\n",
       "      <td>-0.004686</td>\n",
       "      <td>-0.001715</td>\n",
       "    </tr>\n",
       "    <tr>\n",
       "      <th>...</th>\n",
       "      <td>...</td>\n",
       "      <td>...</td>\n",
       "      <td>...</td>\n",
       "      <td>...</td>\n",
       "      <td>...</td>\n",
       "      <td>...</td>\n",
       "      <td>...</td>\n",
       "      <td>...</td>\n",
       "      <td>...</td>\n",
       "      <td>...</td>\n",
       "      <td>...</td>\n",
       "      <td>...</td>\n",
       "      <td>...</td>\n",
       "      <td>...</td>\n",
       "      <td>...</td>\n",
       "      <td>...</td>\n",
       "      <td>...</td>\n",
       "      <td>...</td>\n",
       "      <td>...</td>\n",
       "      <td>...</td>\n",
       "      <td>...</td>\n",
       "    </tr>\n",
       "    <tr>\n",
       "      <th>Tshirt</th>\n",
       "      <td>-0.000481</td>\n",
       "      <td>-0.003163</td>\n",
       "      <td>-0.009093</td>\n",
       "      <td>-0.001274</td>\n",
       "      <td>-0.002973</td>\n",
       "      <td>-0.000481</td>\n",
       "      <td>-0.005982</td>\n",
       "      <td>-0.003343</td>\n",
       "      <td>-0.001077</td>\n",
       "      <td>-0.001179</td>\n",
       "      <td>...</td>\n",
       "      <td>-0.000481</td>\n",
       "      <td>-0.003677</td>\n",
       "      <td>-0.005861</td>\n",
       "      <td>-0.008730</td>\n",
       "      <td>0.009189</td>\n",
       "      <td>1.000000</td>\n",
       "      <td>0.119525</td>\n",
       "      <td>-0.001927</td>\n",
       "      <td>-0.003480</td>\n",
       "      <td>-0.001274</td>\n",
       "    </tr>\n",
       "    <tr>\n",
       "      <th>Valentine's card</th>\n",
       "      <td>-0.000379</td>\n",
       "      <td>-0.002488</td>\n",
       "      <td>-0.007151</td>\n",
       "      <td>-0.001002</td>\n",
       "      <td>-0.002338</td>\n",
       "      <td>-0.000379</td>\n",
       "      <td>-0.004705</td>\n",
       "      <td>-0.002629</td>\n",
       "      <td>-0.000847</td>\n",
       "      <td>-0.000928</td>\n",
       "      <td>...</td>\n",
       "      <td>-0.000379</td>\n",
       "      <td>-0.002892</td>\n",
       "      <td>-0.004610</td>\n",
       "      <td>-0.006866</td>\n",
       "      <td>-0.005299</td>\n",
       "      <td>0.119525</td>\n",
       "      <td>1.000000</td>\n",
       "      <td>-0.001515</td>\n",
       "      <td>-0.002737</td>\n",
       "      <td>-0.001002</td>\n",
       "    </tr>\n",
       "    <tr>\n",
       "      <th>Vegan Feast</th>\n",
       "      <td>-0.000420</td>\n",
       "      <td>-0.002761</td>\n",
       "      <td>-0.007935</td>\n",
       "      <td>0.093494</td>\n",
       "      <td>-0.002594</td>\n",
       "      <td>-0.000420</td>\n",
       "      <td>-0.005220</td>\n",
       "      <td>-0.002917</td>\n",
       "      <td>-0.000939</td>\n",
       "      <td>-0.001029</td>\n",
       "      <td>...</td>\n",
       "      <td>-0.000420</td>\n",
       "      <td>-0.003209</td>\n",
       "      <td>-0.005115</td>\n",
       "      <td>-0.007618</td>\n",
       "      <td>-0.005880</td>\n",
       "      <td>-0.001927</td>\n",
       "      <td>-0.001515</td>\n",
       "      <td>1.000000</td>\n",
       "      <td>-0.003037</td>\n",
       "      <td>-0.001112</td>\n",
       "    </tr>\n",
       "    <tr>\n",
       "      <th>Vegan mincepie</th>\n",
       "      <td>-0.000759</td>\n",
       "      <td>-0.004986</td>\n",
       "      <td>0.000941</td>\n",
       "      <td>-0.002008</td>\n",
       "      <td>-0.004686</td>\n",
       "      <td>-0.000759</td>\n",
       "      <td>0.001941</td>\n",
       "      <td>-0.005269</td>\n",
       "      <td>-0.001697</td>\n",
       "      <td>-0.001859</td>\n",
       "      <td>...</td>\n",
       "      <td>-0.000759</td>\n",
       "      <td>-0.005795</td>\n",
       "      <td>0.013957</td>\n",
       "      <td>0.002102</td>\n",
       "      <td>-0.000482</td>\n",
       "      <td>-0.003480</td>\n",
       "      <td>-0.002737</td>\n",
       "      <td>-0.003037</td>\n",
       "      <td>1.000000</td>\n",
       "      <td>-0.002008</td>\n",
       "    </tr>\n",
       "    <tr>\n",
       "      <th>Victorian Sponge</th>\n",
       "      <td>-0.000278</td>\n",
       "      <td>-0.001825</td>\n",
       "      <td>0.015518</td>\n",
       "      <td>-0.000735</td>\n",
       "      <td>-0.001715</td>\n",
       "      <td>-0.000278</td>\n",
       "      <td>-0.003451</td>\n",
       "      <td>-0.001929</td>\n",
       "      <td>-0.000621</td>\n",
       "      <td>-0.000680</td>\n",
       "      <td>...</td>\n",
       "      <td>-0.000278</td>\n",
       "      <td>-0.002121</td>\n",
       "      <td>-0.003381</td>\n",
       "      <td>-0.005037</td>\n",
       "      <td>-0.003887</td>\n",
       "      <td>-0.001274</td>\n",
       "      <td>-0.001002</td>\n",
       "      <td>-0.001112</td>\n",
       "      <td>-0.002008</td>\n",
       "      <td>1.000000</td>\n",
       "    </tr>\n",
       "  </tbody>\n",
       "</table>\n",
       "<p>95 rows × 95 columns</p>\n",
       "</div>"
      ],
      "text/plain": [
       "Item                      Adjustment  Afternoon with the baker  Alfajores  \\\n",
       "Item                                                                        \n",
       "Adjustment                  1.000000                 -0.000690  -0.001982   \n",
       "Afternoon with the baker   -0.000690                  1.000000  -0.013027   \n",
       "Alfajores                  -0.001982                 -0.013027   1.000000   \n",
       "Argentina Night            -0.000278                  0.113756  -0.005246   \n",
       "Art Tray                   -0.000648                 -0.004259   0.014537   \n",
       "...                              ...                       ...        ...   \n",
       "Tshirt                     -0.000481                 -0.003163  -0.009093   \n",
       "Valentine's card           -0.000379                 -0.002488  -0.007151   \n",
       "Vegan Feast                -0.000420                 -0.002761  -0.007935   \n",
       "Vegan mincepie             -0.000759                 -0.004986   0.000941   \n",
       "Victorian Sponge           -0.000278                 -0.001825   0.015518   \n",
       "\n",
       "Item                      Argentina Night  Art Tray     Bacon  Baguette  \\\n",
       "Item                                                                      \n",
       "Adjustment                      -0.000278 -0.000648 -0.000105 -0.001304   \n",
       "Afternoon with the baker         0.113756 -0.004259 -0.000690 -0.008570   \n",
       "Alfajores                       -0.005246  0.014537 -0.001982 -0.002183   \n",
       "Argentina Night                  1.000000 -0.001715 -0.000278 -0.003451   \n",
       "Art Tray                        -0.001715  1.000000  0.161906  0.005236   \n",
       "...                                   ...       ...       ...       ...   \n",
       "Tshirt                          -0.001274 -0.002973 -0.000481 -0.005982   \n",
       "Valentine's card                -0.001002 -0.002338 -0.000379 -0.004705   \n",
       "Vegan Feast                      0.093494 -0.002594 -0.000420 -0.005220   \n",
       "Vegan mincepie                  -0.002008 -0.004686 -0.000759  0.001941   \n",
       "Victorian Sponge                -0.000735 -0.001715 -0.000278 -0.003451   \n",
       "\n",
       "Item                      Bakewell  Bare Popcorn    Basket  ...  The BART  \\\n",
       "Item                                                        ...             \n",
       "Adjustment               -0.000729     -0.000235 -0.000257  ... -0.000105   \n",
       "Afternoon with the baker -0.004790     -0.001542 -0.001690  ... -0.000690   \n",
       "Alfajores                 0.002126     -0.004433 -0.004857  ... -0.001982   \n",
       "Argentina Night          -0.001929     -0.000621 -0.000680  ... -0.000278   \n",
       "Art Tray                  0.019019      0.071262 -0.001588  ... -0.000648   \n",
       "...                            ...           ...       ...  ...       ...   \n",
       "Tshirt                   -0.003343     -0.001077 -0.001179  ... -0.000481   \n",
       "Valentine's card         -0.002629     -0.000847 -0.000928  ... -0.000379   \n",
       "Vegan Feast              -0.002917     -0.000939 -0.001029  ... -0.000420   \n",
       "Vegan mincepie           -0.005269     -0.001697 -0.001859  ... -0.000759   \n",
       "Victorian Sponge         -0.001929     -0.000621 -0.000680  ... -0.000278   \n",
       "\n",
       "Item                      The Nomad    Tiffin     Toast  Truffles    Tshirt  \\\n",
       "Item                                                                          \n",
       "Adjustment                -0.000802 -0.001278 -0.001903 -0.001469 -0.000481   \n",
       "Afternoon with the baker   0.014863 -0.008397 -0.012507  0.001491 -0.003163   \n",
       "Alfajores                 -0.007908  0.012506 -0.020289  0.016296 -0.009093   \n",
       "Argentina Night           -0.002121 -0.003381 -0.005037 -0.003887 -0.001274   \n",
       "Art Tray                   0.016458 -0.007891  0.006788  0.014630 -0.002973   \n",
       "...                             ...       ...       ...       ...       ...   \n",
       "Tshirt                    -0.003677 -0.005861 -0.008730  0.009189  1.000000   \n",
       "Valentine's card          -0.002892 -0.004610 -0.006866 -0.005299  0.119525   \n",
       "Vegan Feast               -0.003209 -0.005115 -0.007618 -0.005880 -0.001927   \n",
       "Vegan mincepie            -0.005795  0.013957  0.002102 -0.000482 -0.003480   \n",
       "Victorian Sponge          -0.002121 -0.003381 -0.005037 -0.003887 -0.001274   \n",
       "\n",
       "Item                      Valentine's card  Vegan Feast  Vegan mincepie  \\\n",
       "Item                                                                      \n",
       "Adjustment                       -0.000379    -0.000420       -0.000759   \n",
       "Afternoon with the baker         -0.002488    -0.002761       -0.004986   \n",
       "Alfajores                        -0.007151    -0.007935        0.000941   \n",
       "Argentina Night                  -0.001002     0.093494       -0.002008   \n",
       "Art Tray                         -0.002338    -0.002594       -0.004686   \n",
       "...                                    ...          ...             ...   \n",
       "Tshirt                            0.119525    -0.001927       -0.003480   \n",
       "Valentine's card                  1.000000    -0.001515       -0.002737   \n",
       "Vegan Feast                      -0.001515     1.000000       -0.003037   \n",
       "Vegan mincepie                   -0.002737    -0.003037        1.000000   \n",
       "Victorian Sponge                 -0.001002    -0.001112       -0.002008   \n",
       "\n",
       "Item                      Victorian Sponge  \n",
       "Item                                        \n",
       "Adjustment                       -0.000278  \n",
       "Afternoon with the baker         -0.001825  \n",
       "Alfajores                         0.015518  \n",
       "Argentina Night                  -0.000735  \n",
       "Art Tray                         -0.001715  \n",
       "...                                    ...  \n",
       "Tshirt                           -0.001274  \n",
       "Valentine's card                 -0.001002  \n",
       "Vegan Feast                      -0.001112  \n",
       "Vegan mincepie                   -0.002008  \n",
       "Victorian Sponge                  1.000000  \n",
       "\n",
       "[95 rows x 95 columns]"
      ]
     },
     "execution_count": 42,
     "metadata": {},
     "output_type": "execute_result"
    }
   ],
   "source": [
    "basket_sets.corr()"
   ]
  },
  {
   "cell_type": "code",
   "execution_count": 43,
   "id": "f7968125",
   "metadata": {},
   "outputs": [
    {
     "data": {
      "text/plain": [
       "<AxesSubplot:xlabel='Item'>"
      ]
     },
     "execution_count": 43,
     "metadata": {},
     "output_type": "execute_result"
    },
    {
     "data": {
      "image/png": "[encoded data removed]",
      "text/plain": [
       "<Figure size 1440x360 with 1 Axes>"
      ]
     },
     "metadata": {
      "needs_background": "light"
     },
     "output_type": "display_data"
    }
   ],
   "source": [
    "basket_sets.corr()['Coffee'].sort_values(ascending = False ).plot(kind='bar', figsize=(20,5), color=(\"#4951ad\"))"
   ]
  },
  {
   "cell_type": "code",
   "execution_count": 44,
   "id": "cc217341",
   "metadata": {},
   "outputs": [
    {
     "data": {
      "text/plain": [
       "Item\n",
       "Tea             1.000000\n",
       "Cake            0.084853\n",
       "NONE            0.075121\n",
       "Soup            0.065932\n",
       "Scone           0.054029\n",
       "                  ...   \n",
       "Baguette       -0.044508\n",
       "Scandinavian   -0.055639\n",
       "Farm House     -0.058417\n",
       "Coffee         -0.102049\n",
       "Bread          -0.110935\n",
       "Name: Tea, Length: 95, dtype: float64"
      ]
     },
     "execution_count": 44,
     "metadata": {},
     "output_type": "execute_result"
    }
   ],
   "source": [
    "basket_sets.corr()['Tea'].sort_values(ascending=False)"
   ]
  },
  {
   "cell_type": "code",
   "execution_count": 47,
   "id": "16b87b9f",
   "metadata": {},
   "outputs": [
    {
     "name": "stdout",
     "output_type": "stream",
     "text": [
      "(54, 9)\n"
     ]
    },
    {
     "name": "stderr",
     "output_type": "stream",
     "text": [
      "C:\\ProgramData\\Anaconda3\\lib\\site-packages\\mlxtend\\frequent_patterns\\fpcommon.py:111: DeprecationWarning: DataFrames with non-bool types result in worse computationalperformance and their support might be discontinued in the future.Please use a DataFrame with bool type\n",
      "  warnings.warn(\n"
     ]
    },
    {
     "data": {
      "text/html": [
       "<div>\n",
       "<style scoped>\n",
       "    .dataframe tbody tr th:only-of-type {\n",
       "        vertical-align: middle;\n",
       "    }\n",
       "\n",
       "    .dataframe tbody tr th {\n",
       "        vertical-align: top;\n",
       "    }\n",
       "\n",
       "    .dataframe thead th {\n",
       "        text-align: right;\n",
       "    }\n",
       "</style>\n",
       "<table border=\"1\" class=\"dataframe\">\n",
       "  <thead>\n",
       "    <tr style=\"text-align: right;\">\n",
       "      <th></th>\n",
       "      <th>antecedents</th>\n",
       "      <th>consequents</th>\n",
       "      <th>antecedent support</th>\n",
       "      <th>consequent support</th>\n",
       "      <th>support</th>\n",
       "      <th>confidence</th>\n",
       "      <th>lift</th>\n",
       "      <th>leverage</th>\n",
       "      <th>conviction</th>\n",
       "    </tr>\n",
       "  </thead>\n",
       "  <tbody>\n",
       "    <tr>\n",
       "      <th>44</th>\n",
       "      <td>(Toast)</td>\n",
       "      <td>(Coffee)</td>\n",
       "      <td>0.033365</td>\n",
       "      <td>0.475081</td>\n",
       "      <td>0.023502</td>\n",
       "      <td>0.704403</td>\n",
       "      <td>1.482699</td>\n",
       "      <td>0.007651</td>\n",
       "      <td>1.775789</td>\n",
       "    </tr>\n",
       "    <tr>\n",
       "      <th>43</th>\n",
       "      <td>(Spanish Brunch)</td>\n",
       "      <td>(Coffee)</td>\n",
       "      <td>0.018046</td>\n",
       "      <td>0.475081</td>\n",
       "      <td>0.010807</td>\n",
       "      <td>0.598837</td>\n",
       "      <td>1.260494</td>\n",
       "      <td>0.002233</td>\n",
       "      <td>1.308493</td>\n",
       "    </tr>\n",
       "    <tr>\n",
       "      <th>29</th>\n",
       "      <td>(Medialuna)</td>\n",
       "      <td>(Coffee)</td>\n",
       "      <td>0.061379</td>\n",
       "      <td>0.475081</td>\n",
       "      <td>0.034939</td>\n",
       "      <td>0.569231</td>\n",
       "      <td>1.198175</td>\n",
       "      <td>0.005779</td>\n",
       "      <td>1.218561</td>\n",
       "    </tr>\n",
       "    <tr>\n",
       "      <th>35</th>\n",
       "      <td>(Pastry)</td>\n",
       "      <td>(Coffee)</td>\n",
       "      <td>0.085510</td>\n",
       "      <td>0.475081</td>\n",
       "      <td>0.047214</td>\n",
       "      <td>0.552147</td>\n",
       "      <td>1.162216</td>\n",
       "      <td>0.006590</td>\n",
       "      <td>1.172079</td>\n",
       "    </tr>\n",
       "    <tr>\n",
       "      <th>2</th>\n",
       "      <td>(Alfajores)</td>\n",
       "      <td>(Coffee)</td>\n",
       "      <td>0.036093</td>\n",
       "      <td>0.475081</td>\n",
       "      <td>0.019515</td>\n",
       "      <td>0.540698</td>\n",
       "      <td>1.138116</td>\n",
       "      <td>0.002368</td>\n",
       "      <td>1.142861</td>\n",
       "    </tr>\n",
       "  </tbody>\n",
       "</table>\n",
       "</div>"
      ],
      "text/plain": [
       "         antecedents consequents  antecedent support  consequent support  \\\n",
       "44           (Toast)    (Coffee)            0.033365            0.475081   \n",
       "43  (Spanish Brunch)    (Coffee)            0.018046            0.475081   \n",
       "29       (Medialuna)    (Coffee)            0.061379            0.475081   \n",
       "35          (Pastry)    (Coffee)            0.085510            0.475081   \n",
       "2        (Alfajores)    (Coffee)            0.036093            0.475081   \n",
       "\n",
       "     support  confidence      lift  leverage  conviction  \n",
       "44  0.023502    0.704403  1.482699  0.007651    1.775789  \n",
       "43  0.010807    0.598837  1.260494  0.002233    1.308493  \n",
       "29  0.034939    0.569231  1.198175  0.005779    1.218561  \n",
       "35  0.047214    0.552147  1.162216  0.006590    1.172079  \n",
       "2   0.019515    0.540698  1.138116  0.002368    1.142861  "
      ]
     },
     "execution_count": 47,
     "metadata": {},
     "output_type": "execute_result"
    }
   ],
   "source": [
    "frequent_itemsets = apriori(basket_sets, min_support=0.01,use_colnames=True)\n",
    "rules = association_rules(frequent_itemsets, metric=\"lift\")\n",
    "rules.sort_values('confidence',ascending= False, inplace = True)\n",
    "print(rules.shape)\n",
    "rules.head(5)"
   ]
  },
  {
   "cell_type": "code",
   "execution_count": 48,
   "id": "2a475ed7",
   "metadata": {},
   "outputs": [
    {
     "data": {
      "image/png": "[encoded data removed]",
      "text/plain": [
       "<Figure size 720x432 with 2 Axes>"
      ]
     },
     "metadata": {
      "needs_background": "light"
     },
     "output_type": "display_data"
    }
   ],
   "source": [
    "plt.figure(figsize=(10,6))\n",
    "plt.scatter(rules['support'],rules['confidence'], c=rules['lift'], alpha=0.9,cmap='BuPu')\n",
    "plt.title('Rules distribution color mapped by lift');\n",
    "plt.xlabel('Support')\n",
    "plt.ylabel('Confidence')\n",
    "plt.colorbar();"
   ]
  },
  {
   "cell_type": "code",
   "execution_count": 49,
   "id": "279eb614",
   "metadata": {},
   "outputs": [
    {
     "name": "stdout",
     "output_type": "stream",
     "text": [
      "(14, 9)\n"
     ]
    },
    {
     "name": "stderr",
     "output_type": "stream",
     "text": [
      "C:\\ProgramData\\Anaconda3\\lib\\site-packages\\mlxtend\\frequent_patterns\\fpcommon.py:111: DeprecationWarning: DataFrames with non-bool types result in worse computationalperformance and their support might be discontinued in the future.Please use a DataFrame with bool type\n",
      "  warnings.warn(\n"
     ]
    },
    {
     "data": {
      "text/html": [
       "<div>\n",
       "<style scoped>\n",
       "    .dataframe tbody tr th:only-of-type {\n",
       "        vertical-align: middle;\n",
       "    }\n",
       "\n",
       "    .dataframe tbody tr th {\n",
       "        vertical-align: top;\n",
       "    }\n",
       "\n",
       "    .dataframe thead th {\n",
       "        text-align: right;\n",
       "    }\n",
       "</style>\n",
       "<table border=\"1\" class=\"dataframe\">\n",
       "  <thead>\n",
       "    <tr style=\"text-align: right;\">\n",
       "      <th></th>\n",
       "      <th>antecedents</th>\n",
       "      <th>consequents</th>\n",
       "      <th>antecedent support</th>\n",
       "      <th>consequent support</th>\n",
       "      <th>support</th>\n",
       "      <th>confidence</th>\n",
       "      <th>lift</th>\n",
       "      <th>leverage</th>\n",
       "      <th>conviction</th>\n",
       "    </tr>\n",
       "  </thead>\n",
       "  <tbody>\n",
       "    <tr>\n",
       "      <th>6</th>\n",
       "      <td>(Toast)</td>\n",
       "      <td>(Coffee)</td>\n",
       "      <td>0.033365</td>\n",
       "      <td>0.475081</td>\n",
       "      <td>0.023502</td>\n",
       "      <td>0.704403</td>\n",
       "      <td>1.482699</td>\n",
       "      <td>0.007651</td>\n",
       "      <td>1.775789</td>\n",
       "    </tr>\n",
       "    <tr>\n",
       "      <th>5</th>\n",
       "      <td>(Spanish Brunch)</td>\n",
       "      <td>(Coffee)</td>\n",
       "      <td>0.018046</td>\n",
       "      <td>0.475081</td>\n",
       "      <td>0.010807</td>\n",
       "      <td>0.598837</td>\n",
       "      <td>1.260494</td>\n",
       "      <td>0.002233</td>\n",
       "      <td>1.308493</td>\n",
       "    </tr>\n",
       "    <tr>\n",
       "      <th>8</th>\n",
       "      <td>(NONE)</td>\n",
       "      <td>(Tea)</td>\n",
       "      <td>0.079005</td>\n",
       "      <td>0.141643</td>\n",
       "      <td>0.018256</td>\n",
       "      <td>0.231076</td>\n",
       "      <td>1.631394</td>\n",
       "      <td>0.007066</td>\n",
       "      <td>1.116309</td>\n",
       "    </tr>\n",
       "    <tr>\n",
       "      <th>2</th>\n",
       "      <td>(Cake)</td>\n",
       "      <td>(Tea)</td>\n",
       "      <td>0.103137</td>\n",
       "      <td>0.141643</td>\n",
       "      <td>0.023607</td>\n",
       "      <td>0.228891</td>\n",
       "      <td>1.615972</td>\n",
       "      <td>0.008999</td>\n",
       "      <td>1.113146</td>\n",
       "    </tr>\n",
       "    <tr>\n",
       "      <th>11</th>\n",
       "      <td>(Sandwich)</td>\n",
       "      <td>(Tea)</td>\n",
       "      <td>0.071346</td>\n",
       "      <td>0.141643</td>\n",
       "      <td>0.014269</td>\n",
       "      <td>0.200000</td>\n",
       "      <td>1.412000</td>\n",
       "      <td>0.004164</td>\n",
       "      <td>1.072946</td>\n",
       "    </tr>\n",
       "    <tr>\n",
       "      <th>0</th>\n",
       "      <td>(Hot chocolate)</td>\n",
       "      <td>(Cake)</td>\n",
       "      <td>0.057916</td>\n",
       "      <td>0.103137</td>\n",
       "      <td>0.011331</td>\n",
       "      <td>0.195652</td>\n",
       "      <td>1.897010</td>\n",
       "      <td>0.005358</td>\n",
       "      <td>1.115019</td>\n",
       "    </tr>\n",
       "    <tr>\n",
       "      <th>3</th>\n",
       "      <td>(Tea)</td>\n",
       "      <td>(Cake)</td>\n",
       "      <td>0.141643</td>\n",
       "      <td>0.103137</td>\n",
       "      <td>0.023607</td>\n",
       "      <td>0.166667</td>\n",
       "      <td>1.615972</td>\n",
       "      <td>0.008999</td>\n",
       "      <td>1.076235</td>\n",
       "    </tr>\n",
       "    <tr>\n",
       "      <th>13</th>\n",
       "      <td>(Pastry)</td>\n",
       "      <td>(Coffee, Bread)</td>\n",
       "      <td>0.085510</td>\n",
       "      <td>0.089393</td>\n",
       "      <td>0.011122</td>\n",
       "      <td>0.130061</td>\n",
       "      <td>1.454947</td>\n",
       "      <td>0.003478</td>\n",
       "      <td>1.046749</td>\n",
       "    </tr>\n",
       "    <tr>\n",
       "      <th>9</th>\n",
       "      <td>(Tea)</td>\n",
       "      <td>(NONE)</td>\n",
       "      <td>0.141643</td>\n",
       "      <td>0.079005</td>\n",
       "      <td>0.018256</td>\n",
       "      <td>0.128889</td>\n",
       "      <td>1.631394</td>\n",
       "      <td>0.007066</td>\n",
       "      <td>1.057264</td>\n",
       "    </tr>\n",
       "    <tr>\n",
       "      <th>12</th>\n",
       "      <td>(Coffee, Bread)</td>\n",
       "      <td>(Pastry)</td>\n",
       "      <td>0.089393</td>\n",
       "      <td>0.085510</td>\n",
       "      <td>0.011122</td>\n",
       "      <td>0.124413</td>\n",
       "      <td>1.454947</td>\n",
       "      <td>0.003478</td>\n",
       "      <td>1.044430</td>\n",
       "    </tr>\n",
       "    <tr>\n",
       "      <th>1</th>\n",
       "      <td>(Cake)</td>\n",
       "      <td>(Hot chocolate)</td>\n",
       "      <td>0.103137</td>\n",
       "      <td>0.057916</td>\n",
       "      <td>0.011331</td>\n",
       "      <td>0.109868</td>\n",
       "      <td>1.897010</td>\n",
       "      <td>0.005358</td>\n",
       "      <td>1.058364</td>\n",
       "    </tr>\n",
       "    <tr>\n",
       "      <th>10</th>\n",
       "      <td>(Tea)</td>\n",
       "      <td>(Sandwich)</td>\n",
       "      <td>0.141643</td>\n",
       "      <td>0.071346</td>\n",
       "      <td>0.014269</td>\n",
       "      <td>0.100741</td>\n",
       "      <td>1.412000</td>\n",
       "      <td>0.004164</td>\n",
       "      <td>1.032688</td>\n",
       "    </tr>\n",
       "    <tr>\n",
       "      <th>7</th>\n",
       "      <td>(Coffee)</td>\n",
       "      <td>(Toast)</td>\n",
       "      <td>0.475081</td>\n",
       "      <td>0.033365</td>\n",
       "      <td>0.023502</td>\n",
       "      <td>0.049470</td>\n",
       "      <td>1.482699</td>\n",
       "      <td>0.007651</td>\n",
       "      <td>1.016943</td>\n",
       "    </tr>\n",
       "    <tr>\n",
       "      <th>4</th>\n",
       "      <td>(Coffee)</td>\n",
       "      <td>(Spanish Brunch)</td>\n",
       "      <td>0.475081</td>\n",
       "      <td>0.018046</td>\n",
       "      <td>0.010807</td>\n",
       "      <td>0.022747</td>\n",
       "      <td>1.260494</td>\n",
       "      <td>0.002233</td>\n",
       "      <td>1.004810</td>\n",
       "    </tr>\n",
       "  </tbody>\n",
       "</table>\n",
       "</div>"
      ],
      "text/plain": [
       "         antecedents       consequents  antecedent support  \\\n",
       "6            (Toast)          (Coffee)            0.033365   \n",
       "5   (Spanish Brunch)          (Coffee)            0.018046   \n",
       "8             (NONE)             (Tea)            0.079005   \n",
       "2             (Cake)             (Tea)            0.103137   \n",
       "11        (Sandwich)             (Tea)            0.071346   \n",
       "0    (Hot chocolate)            (Cake)            0.057916   \n",
       "3              (Tea)            (Cake)            0.141643   \n",
       "13          (Pastry)   (Coffee, Bread)            0.085510   \n",
       "9              (Tea)            (NONE)            0.141643   \n",
       "12   (Coffee, Bread)          (Pastry)            0.089393   \n",
       "1             (Cake)   (Hot chocolate)            0.103137   \n",
       "10             (Tea)        (Sandwich)            0.141643   \n",
       "7           (Coffee)           (Toast)            0.475081   \n",
       "4           (Coffee)  (Spanish Brunch)            0.475081   \n",
       "\n",
       "    consequent support   support  confidence      lift  leverage  conviction  \n",
       "6             0.475081  0.023502    0.704403  1.482699  0.007651    1.775789  \n",
       "5             0.475081  0.010807    0.598837  1.260494  0.002233    1.308493  \n",
       "8             0.141643  0.018256    0.231076  1.631394  0.007066    1.116309  \n",
       "2             0.141643  0.023607    0.228891  1.615972  0.008999    1.113146  \n",
       "11            0.141643  0.014269    0.200000  1.412000  0.004164    1.072946  \n",
       "0             0.103137  0.011331    0.195652  1.897010  0.005358    1.115019  \n",
       "3             0.103137  0.023607    0.166667  1.615972  0.008999    1.076235  \n",
       "13            0.089393  0.011122    0.130061  1.454947  0.003478    1.046749  \n",
       "9             0.079005  0.018256    0.128889  1.631394  0.007066    1.057264  \n",
       "12            0.085510  0.011122    0.124413  1.454947  0.003478    1.044430  \n",
       "1             0.057916  0.011331    0.109868  1.897010  0.005358    1.058364  \n",
       "10            0.071346  0.014269    0.100741  1.412000  0.004164    1.032688  \n",
       "7             0.033365  0.023502    0.049470  1.482699  0.007651    1.016943  \n",
       "4             0.018046  0.010807    0.022747  1.260494  0.002233    1.004810  "
      ]
     },
     "execution_count": 49,
     "metadata": {},
     "output_type": "execute_result"
    }
   ],
   "source": [
    "frequent_itemsets = apriori(basket_sets, min_support=0.01, use_colnames=True)\n",
    "rules2 = association_rules(frequent_itemsets, metric=\"lift\",  min_threshold=1.2)\n",
    "rules2.sort_values('confidence', ascending = False, inplace = True)\n",
    "print(rules2.shape)\n",
    "rules2"
   ]
  },
  {
   "cell_type": "code",
   "execution_count": 51,
   "id": "b9f1d5b1",
   "metadata": {},
   "outputs": [
    {
     "name": "stdout",
     "output_type": "stream",
     "text": [
      "(54, 10)\n"
     ]
    },
    {
     "data": {
      "text/html": [
       "<div>\n",
       "<style scoped>\n",
       "    .dataframe tbody tr th:only-of-type {\n",
       "        vertical-align: middle;\n",
       "    }\n",
       "\n",
       "    .dataframe tbody tr th {\n",
       "        vertical-align: top;\n",
       "    }\n",
       "\n",
       "    .dataframe thead th {\n",
       "        text-align: right;\n",
       "    }\n",
       "</style>\n",
       "<table border=\"1\" class=\"dataframe\">\n",
       "  <thead>\n",
       "    <tr style=\"text-align: right;\">\n",
       "      <th></th>\n",
       "      <th>antecedents</th>\n",
       "      <th>consequents</th>\n",
       "      <th>antecedent support</th>\n",
       "      <th>consequent support</th>\n",
       "      <th>support</th>\n",
       "      <th>confidence</th>\n",
       "      <th>lift</th>\n",
       "      <th>leverage</th>\n",
       "      <th>conviction</th>\n",
       "      <th>antecedent_len</th>\n",
       "    </tr>\n",
       "  </thead>\n",
       "  <tbody>\n",
       "    <tr>\n",
       "      <th>44</th>\n",
       "      <td>(Toast)</td>\n",
       "      <td>(Coffee)</td>\n",
       "      <td>0.033365</td>\n",
       "      <td>0.475081</td>\n",
       "      <td>0.023502</td>\n",
       "      <td>0.704403</td>\n",
       "      <td>1.482699</td>\n",
       "      <td>0.007651</td>\n",
       "      <td>1.775789</td>\n",
       "      <td>1</td>\n",
       "    </tr>\n",
       "    <tr>\n",
       "      <th>43</th>\n",
       "      <td>(Spanish Brunch)</td>\n",
       "      <td>(Coffee)</td>\n",
       "      <td>0.018046</td>\n",
       "      <td>0.475081</td>\n",
       "      <td>0.010807</td>\n",
       "      <td>0.598837</td>\n",
       "      <td>1.260494</td>\n",
       "      <td>0.002233</td>\n",
       "      <td>1.308493</td>\n",
       "      <td>1</td>\n",
       "    </tr>\n",
       "    <tr>\n",
       "      <th>29</th>\n",
       "      <td>(Medialuna)</td>\n",
       "      <td>(Coffee)</td>\n",
       "      <td>0.061379</td>\n",
       "      <td>0.475081</td>\n",
       "      <td>0.034939</td>\n",
       "      <td>0.569231</td>\n",
       "      <td>1.198175</td>\n",
       "      <td>0.005779</td>\n",
       "      <td>1.218561</td>\n",
       "      <td>1</td>\n",
       "    </tr>\n",
       "    <tr>\n",
       "      <th>35</th>\n",
       "      <td>(Pastry)</td>\n",
       "      <td>(Coffee)</td>\n",
       "      <td>0.085510</td>\n",
       "      <td>0.475081</td>\n",
       "      <td>0.047214</td>\n",
       "      <td>0.552147</td>\n",
       "      <td>1.162216</td>\n",
       "      <td>0.006590</td>\n",
       "      <td>1.172079</td>\n",
       "      <td>1</td>\n",
       "    </tr>\n",
       "    <tr>\n",
       "      <th>2</th>\n",
       "      <td>(Alfajores)</td>\n",
       "      <td>(Coffee)</td>\n",
       "      <td>0.036093</td>\n",
       "      <td>0.475081</td>\n",
       "      <td>0.019515</td>\n",
       "      <td>0.540698</td>\n",
       "      <td>1.138116</td>\n",
       "      <td>0.002368</td>\n",
       "      <td>1.142861</td>\n",
       "      <td>1</td>\n",
       "    </tr>\n",
       "    <tr>\n",
       "      <th>27</th>\n",
       "      <td>(Juice)</td>\n",
       "      <td>(Coffee)</td>\n",
       "      <td>0.038296</td>\n",
       "      <td>0.475081</td>\n",
       "      <td>0.020460</td>\n",
       "      <td>0.534247</td>\n",
       "      <td>1.124537</td>\n",
       "      <td>0.002266</td>\n",
       "      <td>1.127031</td>\n",
       "      <td>1</td>\n",
       "    </tr>\n",
       "    <tr>\n",
       "      <th>33</th>\n",
       "      <td>(NONE)</td>\n",
       "      <td>(Coffee)</td>\n",
       "      <td>0.079005</td>\n",
       "      <td>0.475081</td>\n",
       "      <td>0.042073</td>\n",
       "      <td>0.532537</td>\n",
       "      <td>1.120938</td>\n",
       "      <td>0.004539</td>\n",
       "      <td>1.122908</td>\n",
       "      <td>1</td>\n",
       "    </tr>\n",
       "    <tr>\n",
       "      <th>37</th>\n",
       "      <td>(Sandwich)</td>\n",
       "      <td>(Coffee)</td>\n",
       "      <td>0.071346</td>\n",
       "      <td>0.475081</td>\n",
       "      <td>0.037981</td>\n",
       "      <td>0.532353</td>\n",
       "      <td>1.120551</td>\n",
       "      <td>0.004086</td>\n",
       "      <td>1.122468</td>\n",
       "      <td>1</td>\n",
       "    </tr>\n",
       "    <tr>\n",
       "      <th>17</th>\n",
       "      <td>(Cake)</td>\n",
       "      <td>(Coffee)</td>\n",
       "      <td>0.103137</td>\n",
       "      <td>0.475081</td>\n",
       "      <td>0.054349</td>\n",
       "      <td>0.526958</td>\n",
       "      <td>1.109196</td>\n",
       "      <td>0.005350</td>\n",
       "      <td>1.109667</td>\n",
       "      <td>1</td>\n",
       "    </tr>\n",
       "    <tr>\n",
       "      <th>39</th>\n",
       "      <td>(Scone)</td>\n",
       "      <td>(Coffee)</td>\n",
       "      <td>0.034309</td>\n",
       "      <td>0.475081</td>\n",
       "      <td>0.017941</td>\n",
       "      <td>0.522936</td>\n",
       "      <td>1.100729</td>\n",
       "      <td>0.001642</td>\n",
       "      <td>1.100310</td>\n",
       "      <td>1</td>\n",
       "    </tr>\n",
       "  </tbody>\n",
       "</table>\n",
       "</div>"
      ],
      "text/plain": [
       "         antecedents consequents  antecedent support  consequent support  \\\n",
       "44           (Toast)    (Coffee)            0.033365            0.475081   \n",
       "43  (Spanish Brunch)    (Coffee)            0.018046            0.475081   \n",
       "29       (Medialuna)    (Coffee)            0.061379            0.475081   \n",
       "35          (Pastry)    (Coffee)            0.085510            0.475081   \n",
       "2        (Alfajores)    (Coffee)            0.036093            0.475081   \n",
       "27           (Juice)    (Coffee)            0.038296            0.475081   \n",
       "33            (NONE)    (Coffee)            0.079005            0.475081   \n",
       "37        (Sandwich)    (Coffee)            0.071346            0.475081   \n",
       "17            (Cake)    (Coffee)            0.103137            0.475081   \n",
       "39           (Scone)    (Coffee)            0.034309            0.475081   \n",
       "\n",
       "     support  confidence      lift  leverage  conviction  antecedent_len  \n",
       "44  0.023502    0.704403  1.482699  0.007651    1.775789               1  \n",
       "43  0.010807    0.598837  1.260494  0.002233    1.308493               1  \n",
       "29  0.034939    0.569231  1.198175  0.005779    1.218561               1  \n",
       "35  0.047214    0.552147  1.162216  0.006590    1.172079               1  \n",
       "2   0.019515    0.540698  1.138116  0.002368    1.142861               1  \n",
       "27  0.020460    0.534247  1.124537  0.002266    1.127031               1  \n",
       "33  0.042073    0.532537  1.120938  0.004539    1.122908               1  \n",
       "37  0.037981    0.532353  1.120551  0.004086    1.122468               1  \n",
       "17  0.054349    0.526958  1.109196  0.005350    1.109667               1  \n",
       "39  0.017941    0.522936  1.100729  0.001642    1.100310               1  "
      ]
     },
     "execution_count": 51,
     "metadata": {},
     "output_type": "execute_result"
    }
   ],
   "source": [
    "rules[\"antecedent_len\"] = rules[\"antecedents\"].apply(lambda x: len(x))\n",
    "print(rules.shape)\n",
    "rules.head(10)"
   ]
  },
  {
   "cell_type": "code",
   "execution_count": 52,
   "id": "2f3863a6",
   "metadata": {},
   "outputs": [
    {
     "data": {
      "text/html": [
       "<div>\n",
       "<style scoped>\n",
       "    .dataframe tbody tr th:only-of-type {\n",
       "        vertical-align: middle;\n",
       "    }\n",
       "\n",
       "    .dataframe tbody tr th {\n",
       "        vertical-align: top;\n",
       "    }\n",
       "\n",
       "    .dataframe thead th {\n",
       "        text-align: right;\n",
       "    }\n",
       "</style>\n",
       "<table border=\"1\" class=\"dataframe\">\n",
       "  <thead>\n",
       "    <tr style=\"text-align: right;\">\n",
       "      <th></th>\n",
       "      <th>antecedents</th>\n",
       "      <th>consequents</th>\n",
       "      <th>antecedent support</th>\n",
       "      <th>consequent support</th>\n",
       "      <th>support</th>\n",
       "      <th>confidence</th>\n",
       "      <th>lift</th>\n",
       "      <th>leverage</th>\n",
       "      <th>conviction</th>\n",
       "      <th>antecedent_len</th>\n",
       "    </tr>\n",
       "  </thead>\n",
       "  <tbody>\n",
       "    <tr>\n",
       "      <th>51</th>\n",
       "      <td>(Pastry, Bread)</td>\n",
       "      <td>(Coffee)</td>\n",
       "      <td>0.028958</td>\n",
       "      <td>0.475081</td>\n",
       "      <td>0.011122</td>\n",
       "      <td>0.384058</td>\n",
       "      <td>0.808405</td>\n",
       "      <td>-0.002636</td>\n",
       "      <td>0.852221</td>\n",
       "      <td>2</td>\n",
       "    </tr>\n",
       "    <tr>\n",
       "      <th>50</th>\n",
       "      <td>(Coffee, Bread)</td>\n",
       "      <td>(Pastry)</td>\n",
       "      <td>0.089393</td>\n",
       "      <td>0.085510</td>\n",
       "      <td>0.011122</td>\n",
       "      <td>0.124413</td>\n",
       "      <td>1.454947</td>\n",
       "      <td>0.003478</td>\n",
       "      <td>1.044430</td>\n",
       "      <td>2</td>\n",
       "    </tr>\n",
       "  </tbody>\n",
       "</table>\n",
       "</div>"
      ],
      "text/plain": [
       "        antecedents consequents  antecedent support  consequent support  \\\n",
       "51  (Pastry, Bread)    (Coffee)            0.028958            0.475081   \n",
       "50  (Coffee, Bread)    (Pastry)            0.089393            0.085510   \n",
       "\n",
       "     support  confidence      lift  leverage  conviction  antecedent_len  \n",
       "51  0.011122    0.384058  0.808405 -0.002636    0.852221               2  \n",
       "50  0.011122    0.124413  1.454947  0.003478    1.044430               2  "
      ]
     },
     "execution_count": 52,
     "metadata": {},
     "output_type": "execute_result"
    }
   ],
   "source": [
    "rules[rules['antecedent_len'] >=2 ]"
   ]
  },
  {
   "cell_type": "code",
   "execution_count": 53,
   "id": "86f451a9",
   "metadata": {},
   "outputs": [
    {
     "data": {
      "text/html": [
       "<div>\n",
       "<style scoped>\n",
       "    .dataframe tbody tr th:only-of-type {\n",
       "        vertical-align: middle;\n",
       "    }\n",
       "\n",
       "    .dataframe tbody tr th {\n",
       "        vertical-align: top;\n",
       "    }\n",
       "\n",
       "    .dataframe thead th {\n",
       "        text-align: right;\n",
       "    }\n",
       "</style>\n",
       "<table border=\"1\" class=\"dataframe\">\n",
       "  <thead>\n",
       "    <tr style=\"text-align: right;\">\n",
       "      <th></th>\n",
       "      <th>antecedents</th>\n",
       "      <th>consequents</th>\n",
       "      <th>antecedent support</th>\n",
       "      <th>consequent support</th>\n",
       "      <th>support</th>\n",
       "      <th>confidence</th>\n",
       "      <th>lift</th>\n",
       "      <th>leverage</th>\n",
       "      <th>conviction</th>\n",
       "      <th>antecedent_len</th>\n",
       "    </tr>\n",
       "  </thead>\n",
       "  <tbody>\n",
       "    <tr>\n",
       "      <th>50</th>\n",
       "      <td>(Coffee, Bread)</td>\n",
       "      <td>(Pastry)</td>\n",
       "      <td>0.089393</td>\n",
       "      <td>0.08551</td>\n",
       "      <td>0.011122</td>\n",
       "      <td>0.124413</td>\n",
       "      <td>1.454947</td>\n",
       "      <td>0.003478</td>\n",
       "      <td>1.04443</td>\n",
       "      <td>2</td>\n",
       "    </tr>\n",
       "  </tbody>\n",
       "</table>\n",
       "</div>"
      ],
      "text/plain": [
       "        antecedents consequents  antecedent support  consequent support  \\\n",
       "50  (Coffee, Bread)    (Pastry)            0.089393             0.08551   \n",
       "\n",
       "     support  confidence      lift  leverage  conviction  antecedent_len  \n",
       "50  0.011122    0.124413  1.454947  0.003478     1.04443               2  "
      ]
     },
     "execution_count": 53,
     "metadata": {},
     "output_type": "execute_result"
    }
   ],
   "source": [
    "# find rules with some conditions :\n",
    "rules[(rules['antecedent_len'] >= 2) &\n",
    "      (rules['confidence'] >= 0.1)& \n",
    "      (rules['lift'] >= 1.2) ]"
   ]
  },
  {
   "cell_type": "code",
   "execution_count": null,
   "id": "7ed1db7a",
   "metadata": {},
   "outputs": [],
   "source": []
  }
 ],
 "metadata": {
  "kernelspec": {
   "display_name": "Python 3 (ipykernel)",
   "language": "python",
   "name": "python3"
  },
  "language_info": {
   "codemirror_mode": {
    "name": "ipython",
    "version": 3
   },
   "file_extension": ".py",
   "mimetype": "text/x-python",
   "name": "python",
   "nbconvert_exporter": "python",
   "pygments_lexer": "ipython3",
   "version": "3.9.7"
  }
 },
 "nbformat": 4,
 "nbformat_minor": 5
}
